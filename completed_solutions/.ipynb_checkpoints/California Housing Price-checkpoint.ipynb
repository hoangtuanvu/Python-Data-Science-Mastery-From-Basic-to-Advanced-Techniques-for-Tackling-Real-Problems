{
 "cells": [
  {
   "cell_type": "markdown",
   "id": "8282cbb7-dd50-4ddd-914b-48d51fac9627",
   "metadata": {
    "tags": []
   },
   "source": [
    "# Introduction"
   ]
  },
  {
   "cell_type": "markdown",
   "id": "843c1165-b226-4a51-89fb-164e2d9301f2",
   "metadata": {},
   "source": [
    "Here’s I want to provide you with a detailed guide on how to explore the California housing dataset and deploy the trained model using Docker container. The California housing dataset is a widely used dataset for regression tasks, and it contains information on housing prices and various attributes of houses in California. \n",
    "\n",
    "This dataset has been widely used in machine learning and data science projects to predict the median house value based on various features. The dataset contains a total of 20,640 instances and 10 features for each instance, including the `median income`, `median house age`, `total rooms`, `total bedrooms`, `population`, `households`, `latitude`, `ocean proximity` and `longitude` of each region. The target feature for this dataset is the `median house value`, which is the value of the house in thousands of dollars.\n",
    "\n",
    "The aim of using this dataset is to predict the median house value based on the given features. This prediction can be useful for various applications, such as real estate, insurance, and finance. With accurate predictions, stakeholders can make informed decisions about the housing market and develop strategies to improve the housing market in different regions of California.\n",
    "\n",
    "Machine learning models such as regression, decision trees, others can be used to predict the `median house value` based on the given features. By analyzing the patterns and trends in the data, these models can learn how different features affect the median house value and make predictions that are close to the actual values. The accuracy of these predictions can be measured using various metrics, such as mean squared error (MSE), root mean squared error (RMSE), and coefficient of determination (R-squared).\n",
    "\n",
    "Overall, the California housing dataset provides a valuable resource for data scientists and machine learning enthusiasts to develop and test various predictive models for the housing market in California.\n",
    "\n",
    "Here are steps to do:"
   ]
  },
  {
   "cell_type": "markdown",
   "id": "c26b8e68-276a-4b95-84a4-8093518991ce",
   "metadata": {},
   "source": [
    "## Step 1: Importing the Necessary Libraries and Loading the Data"
   ]
  },
  {
   "cell_type": "markdown",
   "id": "5e8946cc-dab2-457f-8679-6db2b6d8fad3",
   "metadata": {},
   "source": [
    "First, we need to import the necessary libraries for data exploration. We will be using Pandas for data manipulation and Matplotlib for data visualization. We will also load the California housing dataset using the `read_csv()` function in Pandas."
   ]
  },
  {
   "cell_type": "code",
   "execution_count": 1,
   "id": "cd435a0d-f05f-4d39-a1af-5a9ae043a068",
   "metadata": {
    "tags": []
   },
   "outputs": [],
   "source": [
    "import pandas as pd\n",
    "import matplotlib.pyplot as plt\n",
    "\n",
    "# Load the California housing dataset\n",
    "housing_df = pd.read_csv(\"../datasets/california_housing_prices.csv\")\n"
   ]
  },
  {
   "cell_type": "markdown",
   "id": "50eedadc-345b-47ff-8930-70aa53dcc1f8",
   "metadata": {},
   "source": [
    "## Step 2: Exploring the Data"
   ]
  },
  {
   "cell_type": "markdown",
   "id": "c85bc61b-30ae-49e7-bcd6-cf8ee0be8461",
   "metadata": {
    "tags": []
   },
   "source": [
    "Once we have loaded the data, we can start exploring it. We can use the head function to view the first few rows of the dataset and get an idea of what the data looks like."
   ]
  },
  {
   "cell_type": "code",
   "execution_count": 3,
   "id": "93d60e23-8883-4a79-b315-8c61ee35afc5",
   "metadata": {
    "tags": []
   },
   "outputs": [
    {
     "data": {
      "text/html": [
       "<div>\n",
       "<style scoped>\n",
       "    .dataframe tbody tr th:only-of-type {\n",
       "        vertical-align: middle;\n",
       "    }\n",
       "\n",
       "    .dataframe tbody tr th {\n",
       "        vertical-align: top;\n",
       "    }\n",
       "\n",
       "    .dataframe thead th {\n",
       "        text-align: right;\n",
       "    }\n",
       "</style>\n",
       "<table border=\"1\" class=\"dataframe\">\n",
       "  <thead>\n",
       "    <tr style=\"text-align: right;\">\n",
       "      <th></th>\n",
       "      <th>longitude</th>\n",
       "      <th>latitude</th>\n",
       "      <th>housing_median_age</th>\n",
       "      <th>total_rooms</th>\n",
       "      <th>total_bedrooms</th>\n",
       "      <th>population</th>\n",
       "      <th>households</th>\n",
       "      <th>median_income</th>\n",
       "      <th>median_house_value</th>\n",
       "      <th>ocean_proximity</th>\n",
       "    </tr>\n",
       "  </thead>\n",
       "  <tbody>\n",
       "    <tr>\n",
       "      <th>0</th>\n",
       "      <td>-122.23</td>\n",
       "      <td>37.88</td>\n",
       "      <td>41.0</td>\n",
       "      <td>880.0</td>\n",
       "      <td>129.0</td>\n",
       "      <td>322.0</td>\n",
       "      <td>126.0</td>\n",
       "      <td>8.3252</td>\n",
       "      <td>452600.0</td>\n",
       "      <td>NEAR BAY</td>\n",
       "    </tr>\n",
       "    <tr>\n",
       "      <th>1</th>\n",
       "      <td>-122.22</td>\n",
       "      <td>37.86</td>\n",
       "      <td>21.0</td>\n",
       "      <td>7099.0</td>\n",
       "      <td>1106.0</td>\n",
       "      <td>2401.0</td>\n",
       "      <td>1138.0</td>\n",
       "      <td>8.3014</td>\n",
       "      <td>358500.0</td>\n",
       "      <td>NEAR BAY</td>\n",
       "    </tr>\n",
       "    <tr>\n",
       "      <th>2</th>\n",
       "      <td>-122.24</td>\n",
       "      <td>37.85</td>\n",
       "      <td>52.0</td>\n",
       "      <td>1467.0</td>\n",
       "      <td>190.0</td>\n",
       "      <td>496.0</td>\n",
       "      <td>177.0</td>\n",
       "      <td>7.2574</td>\n",
       "      <td>352100.0</td>\n",
       "      <td>NEAR BAY</td>\n",
       "    </tr>\n",
       "    <tr>\n",
       "      <th>3</th>\n",
       "      <td>-122.25</td>\n",
       "      <td>37.85</td>\n",
       "      <td>52.0</td>\n",
       "      <td>1274.0</td>\n",
       "      <td>235.0</td>\n",
       "      <td>558.0</td>\n",
       "      <td>219.0</td>\n",
       "      <td>5.6431</td>\n",
       "      <td>341300.0</td>\n",
       "      <td>NEAR BAY</td>\n",
       "    </tr>\n",
       "    <tr>\n",
       "      <th>4</th>\n",
       "      <td>-122.25</td>\n",
       "      <td>37.85</td>\n",
       "      <td>52.0</td>\n",
       "      <td>1627.0</td>\n",
       "      <td>280.0</td>\n",
       "      <td>565.0</td>\n",
       "      <td>259.0</td>\n",
       "      <td>3.8462</td>\n",
       "      <td>342200.0</td>\n",
       "      <td>NEAR BAY</td>\n",
       "    </tr>\n",
       "  </tbody>\n",
       "</table>\n",
       "</div>"
      ],
      "text/plain": [
       "   longitude  latitude  housing_median_age  total_rooms  total_bedrooms  \\\n",
       "0    -122.23     37.88                41.0        880.0           129.0   \n",
       "1    -122.22     37.86                21.0       7099.0          1106.0   \n",
       "2    -122.24     37.85                52.0       1467.0           190.0   \n",
       "3    -122.25     37.85                52.0       1274.0           235.0   \n",
       "4    -122.25     37.85                52.0       1627.0           280.0   \n",
       "\n",
       "   population  households  median_income  median_house_value ocean_proximity  \n",
       "0       322.0       126.0         8.3252            452600.0        NEAR BAY  \n",
       "1      2401.0      1138.0         8.3014            358500.0        NEAR BAY  \n",
       "2       496.0       177.0         7.2574            352100.0        NEAR BAY  \n",
       "3       558.0       219.0         5.6431            341300.0        NEAR BAY  \n",
       "4       565.0       259.0         3.8462            342200.0        NEAR BAY  "
      ]
     },
     "execution_count": 3,
     "metadata": {},
     "output_type": "execute_result"
    }
   ],
   "source": [
    "# View the first few rows of the dataset\n",
    "housing_df.head()"
   ]
  },
  {
   "cell_type": "markdown",
   "id": "8854e266-ee5b-4f8a-bd77-730a7f1828a1",
   "metadata": {},
   "source": [
    "Next, we can use the `describe()` function to get some basic statistics on the data. This will give us the mean, standard deviation, minimum, maximum, and quartiles for each column in the dataset."
   ]
  },
  {
   "cell_type": "code",
   "execution_count": 4,
   "id": "70abe43d-cdfb-4e8a-8969-25aa0db61f19",
   "metadata": {
    "tags": []
   },
   "outputs": [
    {
     "data": {
      "text/html": [
       "<div>\n",
       "<style scoped>\n",
       "    .dataframe tbody tr th:only-of-type {\n",
       "        vertical-align: middle;\n",
       "    }\n",
       "\n",
       "    .dataframe tbody tr th {\n",
       "        vertical-align: top;\n",
       "    }\n",
       "\n",
       "    .dataframe thead th {\n",
       "        text-align: right;\n",
       "    }\n",
       "</style>\n",
       "<table border=\"1\" class=\"dataframe\">\n",
       "  <thead>\n",
       "    <tr style=\"text-align: right;\">\n",
       "      <th></th>\n",
       "      <th>longitude</th>\n",
       "      <th>latitude</th>\n",
       "      <th>housing_median_age</th>\n",
       "      <th>total_rooms</th>\n",
       "      <th>total_bedrooms</th>\n",
       "      <th>population</th>\n",
       "      <th>households</th>\n",
       "      <th>median_income</th>\n",
       "      <th>median_house_value</th>\n",
       "    </tr>\n",
       "  </thead>\n",
       "  <tbody>\n",
       "    <tr>\n",
       "      <th>count</th>\n",
       "      <td>20640.000000</td>\n",
       "      <td>20640.000000</td>\n",
       "      <td>20640.000000</td>\n",
       "      <td>20640.000000</td>\n",
       "      <td>20433.000000</td>\n",
       "      <td>20640.000000</td>\n",
       "      <td>20640.000000</td>\n",
       "      <td>20640.000000</td>\n",
       "      <td>20640.000000</td>\n",
       "    </tr>\n",
       "    <tr>\n",
       "      <th>mean</th>\n",
       "      <td>-119.569704</td>\n",
       "      <td>35.631861</td>\n",
       "      <td>28.639486</td>\n",
       "      <td>2635.763081</td>\n",
       "      <td>537.870553</td>\n",
       "      <td>1425.476744</td>\n",
       "      <td>499.539680</td>\n",
       "      <td>3.870671</td>\n",
       "      <td>206855.816909</td>\n",
       "    </tr>\n",
       "    <tr>\n",
       "      <th>std</th>\n",
       "      <td>2.003532</td>\n",
       "      <td>2.135952</td>\n",
       "      <td>12.585558</td>\n",
       "      <td>2181.615252</td>\n",
       "      <td>421.385070</td>\n",
       "      <td>1132.462122</td>\n",
       "      <td>382.329753</td>\n",
       "      <td>1.899822</td>\n",
       "      <td>115395.615874</td>\n",
       "    </tr>\n",
       "    <tr>\n",
       "      <th>min</th>\n",
       "      <td>-124.350000</td>\n",
       "      <td>32.540000</td>\n",
       "      <td>1.000000</td>\n",
       "      <td>2.000000</td>\n",
       "      <td>1.000000</td>\n",
       "      <td>3.000000</td>\n",
       "      <td>1.000000</td>\n",
       "      <td>0.499900</td>\n",
       "      <td>14999.000000</td>\n",
       "    </tr>\n",
       "    <tr>\n",
       "      <th>25%</th>\n",
       "      <td>-121.800000</td>\n",
       "      <td>33.930000</td>\n",
       "      <td>18.000000</td>\n",
       "      <td>1447.750000</td>\n",
       "      <td>296.000000</td>\n",
       "      <td>787.000000</td>\n",
       "      <td>280.000000</td>\n",
       "      <td>2.563400</td>\n",
       "      <td>119600.000000</td>\n",
       "    </tr>\n",
       "    <tr>\n",
       "      <th>50%</th>\n",
       "      <td>-118.490000</td>\n",
       "      <td>34.260000</td>\n",
       "      <td>29.000000</td>\n",
       "      <td>2127.000000</td>\n",
       "      <td>435.000000</td>\n",
       "      <td>1166.000000</td>\n",
       "      <td>409.000000</td>\n",
       "      <td>3.534800</td>\n",
       "      <td>179700.000000</td>\n",
       "    </tr>\n",
       "    <tr>\n",
       "      <th>75%</th>\n",
       "      <td>-118.010000</td>\n",
       "      <td>37.710000</td>\n",
       "      <td>37.000000</td>\n",
       "      <td>3148.000000</td>\n",
       "      <td>647.000000</td>\n",
       "      <td>1725.000000</td>\n",
       "      <td>605.000000</td>\n",
       "      <td>4.743250</td>\n",
       "      <td>264725.000000</td>\n",
       "    </tr>\n",
       "    <tr>\n",
       "      <th>max</th>\n",
       "      <td>-114.310000</td>\n",
       "      <td>41.950000</td>\n",
       "      <td>52.000000</td>\n",
       "      <td>39320.000000</td>\n",
       "      <td>6445.000000</td>\n",
       "      <td>35682.000000</td>\n",
       "      <td>6082.000000</td>\n",
       "      <td>15.000100</td>\n",
       "      <td>500001.000000</td>\n",
       "    </tr>\n",
       "  </tbody>\n",
       "</table>\n",
       "</div>"
      ],
      "text/plain": [
       "          longitude      latitude  housing_median_age   total_rooms  \\\n",
       "count  20640.000000  20640.000000        20640.000000  20640.000000   \n",
       "mean    -119.569704     35.631861           28.639486   2635.763081   \n",
       "std        2.003532      2.135952           12.585558   2181.615252   \n",
       "min     -124.350000     32.540000            1.000000      2.000000   \n",
       "25%     -121.800000     33.930000           18.000000   1447.750000   \n",
       "50%     -118.490000     34.260000           29.000000   2127.000000   \n",
       "75%     -118.010000     37.710000           37.000000   3148.000000   \n",
       "max     -114.310000     41.950000           52.000000  39320.000000   \n",
       "\n",
       "       total_bedrooms    population    households  median_income  \\\n",
       "count    20433.000000  20640.000000  20640.000000   20640.000000   \n",
       "mean       537.870553   1425.476744    499.539680       3.870671   \n",
       "std        421.385070   1132.462122    382.329753       1.899822   \n",
       "min          1.000000      3.000000      1.000000       0.499900   \n",
       "25%        296.000000    787.000000    280.000000       2.563400   \n",
       "50%        435.000000   1166.000000    409.000000       3.534800   \n",
       "75%        647.000000   1725.000000    605.000000       4.743250   \n",
       "max       6445.000000  35682.000000   6082.000000      15.000100   \n",
       "\n",
       "       median_house_value  \n",
       "count        20640.000000  \n",
       "mean        206855.816909  \n",
       "std         115395.615874  \n",
       "min          14999.000000  \n",
       "25%         119600.000000  \n",
       "50%         179700.000000  \n",
       "75%         264725.000000  \n",
       "max         500001.000000  "
      ]
     },
     "execution_count": 4,
     "metadata": {},
     "output_type": "execute_result"
    }
   ],
   "source": [
    "# Get some basic statistics on the data\n",
    "housing_df.describe()\n"
   ]
  },
  {
   "cell_type": "markdown",
   "id": "6365a9b3-475e-4240-b95f-6da750ec64fa",
   "metadata": {},
   "source": [
    "We can also use the `info()` function to get information on the data types and null values in the dataset."
   ]
  },
  {
   "cell_type": "code",
   "execution_count": 5,
   "id": "37c43638-8bd3-41a6-a7a3-2b5c457be3e9",
   "metadata": {
    "tags": []
   },
   "outputs": [
    {
     "name": "stdout",
     "output_type": "stream",
     "text": [
      "<class 'pandas.core.frame.DataFrame'>\n",
      "RangeIndex: 20640 entries, 0 to 20639\n",
      "Data columns (total 10 columns):\n",
      " #   Column              Non-Null Count  Dtype  \n",
      "---  ------              --------------  -----  \n",
      " 0   longitude           20640 non-null  float64\n",
      " 1   latitude            20640 non-null  float64\n",
      " 2   housing_median_age  20640 non-null  float64\n",
      " 3   total_rooms         20640 non-null  float64\n",
      " 4   total_bedrooms      20433 non-null  float64\n",
      " 5   population          20640 non-null  float64\n",
      " 6   households          20640 non-null  float64\n",
      " 7   median_income       20640 non-null  float64\n",
      " 8   median_house_value  20640 non-null  float64\n",
      " 9   ocean_proximity     20640 non-null  object \n",
      "dtypes: float64(9), object(1)\n",
      "memory usage: 1.6+ MB\n"
     ]
    }
   ],
   "source": [
    "# Get information on the data types and null values\n",
    "housing_df.info()\n"
   ]
  },
  {
   "cell_type": "markdown",
   "id": "ac37ad53-ada1-4ff3-8f24-97718a6eae97",
   "metadata": {},
   "source": [
    "As you can see that, most variables are float64 data type. Except, `ocean_proximity`."
   ]
  },
  {
   "cell_type": "markdown",
   "id": "59caa79c-72c5-4d7b-aba0-6b5f5634b66e",
   "metadata": {
    "tags": []
   },
   "source": [
    "## Step 3: Data Visualization"
   ]
  },
  {
   "cell_type": "markdown",
   "id": "88f7db3f-7a4b-4975-b50b-273ad46df75a",
   "metadata": {},
   "source": [
    "Once we have explored the data using basic statistics and information, we can start visualizing the data to gain more insights. We can use various types of charts and graphs to visualize the data, such as histograms, scatter plots, and box plots. For example, we can create a histogram of the housing prices using the `hist()` function in Matplotlib."
   ]
  },
  {
   "cell_type": "code",
   "execution_count": 7,
   "id": "d8d8efde-4eef-483f-8fe6-c9d13e0ebe34",
   "metadata": {
    "tags": []
   },
   "outputs": [
    {
     "data": {
      "image/png": "[encoded data removed]",
      "text/plain": [
       "<Figure size 640x480 with 1 Axes>"
      ]
     },
     "metadata": {},
     "output_type": "display_data"
    }
   ],
   "source": [
    "# Create a histogram of the housing prices\n",
    "plt.hist(housing_df['median_house_value'], bins=50)\n",
    "plt.xlabel('Median House Value')\n",
    "plt.ylabel('Frequency')\n",
    "plt.title('Distribution of Median House Value')\n",
    "plt.show()\n"
   ]
  },
  {
   "cell_type": "markdown",
   "id": "8e420dd7-f6b8-45db-a600-8e75b6eeea79",
   "metadata": {},
   "source": [
    "This will give us a histogram of the housing prices, showing us the distribution of the median house value. As you can see, the median price mainly focuses on interval of 8xxxx to 25xxxx."
   ]
  },
  {
   "cell_type": "markdown",
   "id": "a6689b38-6bc4-4b78-b68a-bb88447edf37",
   "metadata": {},
   "source": [
    "We can also create a scatter plot of the latitude and longitude of the houses using the `scatter()` function in Matplotlib."
   ]
  },
  {
   "cell_type": "code",
   "execution_count": 8,
   "id": "d6c2dc48-53fa-43af-8954-1b595b5f2bce",
   "metadata": {
    "tags": []
   },
   "outputs": [
    {
     "data": {
      "image/png": "[encoded data removed]",
      "text/plain": [
       "<Figure size 640x480 with 2 Axes>"
      ]
     },
     "metadata": {},
     "output_type": "display_data"
    }
   ],
   "source": [
    "# Create a scatter plot of the latitude and longitude of the houses\n",
    "plt.scatter(housing_df['longitude'], housing_df['latitude'], s=10, c=housing_df['median_house_value'], cmap='viridis')\n",
    "plt.xlabel('Longitude')\n",
    "plt.ylabel('Latitude')\n",
    "plt.title('Geographical Distribution of Houses')\n",
    "plt.colorbar(label='Median House Value')\n",
    "plt.show()\n"
   ]
  },
  {
   "cell_type": "markdown",
   "id": "2247833a-1cfa-471d-a4eb-4fb7b001461f",
   "metadata": {},
   "source": [
    "This will give us a scatter plot of the latitude and longitude of the houses, showing us the geographical distribution of the houses based on the median house value. We can also create a box plot of the median income and median house value using the `boxplot()` function in Matplotlib."
   ]
  },
  {
   "cell_type": "code",
   "execution_count": 10,
   "id": "01ea9b98-0d58-4688-ba2f-83280fdf1b48",
   "metadata": {
    "tags": []
   },
   "outputs": [
    {
     "data": {
      "image/png": "[encoded data removed]",
      "text/plain": [
       "<Figure size 640x480 with 1 Axes>"
      ]
     },
     "metadata": {},
     "output_type": "display_data"
    }
   ],
   "source": [
    "# Create a box plot of the median income and median house value\n",
    "plt.boxplot([housing_df['median_income'], housing_df['median_house_value']])\n",
    "plt.xticks([1, 2], ['Median Income', 'Median House Value'])\n",
    "plt.ylabel('Price')\n",
    "plt.title('Box Plot of Median Income and Median House Value')\n",
    "plt.show()\n"
   ]
  },
  {
   "cell_type": "markdown",
   "id": "d93718e9-cce9-4270-82cb-a7bf13627124",
   "metadata": {},
   "source": [
    "This will give us a box plot of the median income and median house value, showing us the distribution of the two variables and any outliers."
   ]
  },
  {
   "cell_type": "markdown",
   "id": "45d580b9-7645-41eb-b7a3-e7f6e3774995",
   "metadata": {},
   "source": [
    "## Step 4: Data Cleaning"
   ]
  },
  {
   "cell_type": "markdown",
   "id": "0773555b-aa88-4eee-9fe8-69aedc63b678",
   "metadata": {},
   "source": [
    "Before we can use the data for machine learning tasks, we need to clean the data by handling any missing values or outliers. We can start by checking for missing values using the `isnull()` function."
   ]
  },
  {
   "cell_type": "code",
   "execution_count": 11,
   "id": "cc90951a-7cc2-4265-a8ca-9becd0875833",
   "metadata": {
    "tags": []
   },
   "outputs": [
    {
     "data": {
      "text/plain": [
       "longitude               0\n",
       "latitude                0\n",
       "housing_median_age      0\n",
       "total_rooms             0\n",
       "total_bedrooms        207\n",
       "population              0\n",
       "households              0\n",
       "median_income           0\n",
       "median_house_value      0\n",
       "ocean_proximity         0\n",
       "dtype: int64"
      ]
     },
     "execution_count": 11,
     "metadata": {},
     "output_type": "execute_result"
    }
   ],
   "source": [
    "# Check for missing values\n",
    "housing_df.isnull().sum()"
   ]
  },
  {
   "cell_type": "markdown",
   "id": "39506aa0-9ed5-4510-8daf-6cb78a8b2c48",
   "metadata": {},
   "source": [
    "This will give us the total number of missing values in each column of the dataset. There are 207 missing values in the `total_bedrooms` column. We can handle them by either removing the rows with missing values or imputing the missing values with a suitable value. Specifically, we can also handle outliers by removing or replacing any extreme values in the dataset. One way to handle outliers is to use the `z-score` method, which calculates the number of standard deviations a value is from the mean."
   ]
  },
  {
   "cell_type": "markdown",
   "id": "0946b840-fb39-4f94-b68b-ad86e60189e9",
   "metadata": {},
   "source": [
    "This code calculates the `z-scores` for the `median_house_value` column, and identifies any values that are more than 3 standard deviations from the mean. These values are considered outliers and are removed from the dataset. Missing values are also imputed with the mean value of the column."
   ]
  },
  {
   "cell_type": "markdown",
   "id": "b65cf4c3-f77b-40c7-8b20-c30941664071",
   "metadata": {},
   "source": [
    "## Step 5: Feature Engineering"
   ]
  },
  {
   "cell_type": "markdown",
   "id": "efed6ae2-baec-436c-abbb-047ba4119cf0",
   "metadata": {},
   "source": [
    "Feature engineering is the process of creating new features from existing features in the dataset. This can help improve the performance of machine learning models by providing more information to the model. For example, we can create a new feature called `rooms_per_household`, which is the number of rooms per household."
   ]
  },
  {
   "cell_type": "code",
   "execution_count": 14,
   "id": "9ea3b5ef-db9f-47f3-8042-58d29ed16084",
   "metadata": {
    "tags": []
   },
   "outputs": [],
   "source": [
    "# Create a new feature called rooms_per_household\n",
    "housing_df['rooms_per_household'] = housing_df['total_rooms'] / housing_df['households']"
   ]
  },
  {
   "cell_type": "markdown",
   "id": "e34f0d60-246c-496a-bf52-7fb5307c8055",
   "metadata": {},
   "source": [
    "This code creates a new column in the dataset called `rooms_per_household`, which is the total number of rooms divided by the number of households."
   ]
  },
  {
   "cell_type": "markdown",
   "id": "de271b9d-746f-4a12-b7cf-16c2eb88dc8e",
   "metadata": {},
   "source": [
    "## Step 6: Splitting the Data"
   ]
  },
  {
   "cell_type": "markdown",
   "id": "3ae8716e-7369-4481-91ea-029d497ec5b3",
   "metadata": {},
   "source": [
    "Next, we need to split the data into training and testing sets for machine learning tasks. We can use the `train_test_split()` function from the Scikit-learn library to split the data."
   ]
  },
  {
   "cell_type": "code",
   "execution_count": 15,
   "id": "8597f721-8282-44a2-856b-dc532e355317",
   "metadata": {
    "tags": []
   },
   "outputs": [],
   "source": [
    "# Split the data into training and testing sets\n",
    "from sklearn.model_selection import train_test_split\n",
    "\n",
    "X = housing_df.drop('median_house_value', axis=1)\n",
    "y = housing_df['median_house_value']\n",
    "\n",
    "X_train, X_test, y_train, y_test = train_test_split(X, y, test_size=0.2, random_state=42)"
   ]
  },
  {
   "cell_type": "markdown",
   "id": "7edae502-cf1f-4a4c-8ebd-441c9544498e",
   "metadata": {},
   "source": [
    "This code creates two datasets: `X`, which contains all the features except for the target variable (median_house_value), and `y`, which contains the target variable. The data is then split into training and testing sets using the `train_test_split()` function, with 80% of the data used for training and 20% used for testing."
   ]
  },
  {
   "cell_type": "markdown",
   "id": "7635f40b-db8c-4930-bd6b-a67abc9cbad2",
   "metadata": {},
   "source": [
    "## Step 7: Building, Evaluating and Tuning Model"
   ]
  },
  {
   "cell_type": "markdown",
   "id": "46ba3d77-0245-4491-96f9-fb83759ac4b0",
   "metadata": {},
   "source": [
    "We will try some Regression models with Hyperparameter tuning, such as GridSearch."
   ]
  },
  {
   "cell_type": "markdown",
   "id": "3d6eefb4-0d08-4e2e-9973-e9453afad3db",
   "metadata": {},
   "source": [
    "### Simple Linear Regression"
   ]
  },
  {
   "cell_type": "markdown",
   "id": "98564170-03b3-4543-8f5f-8df33bb1807e",
   "metadata": {},
   "source": [
    "Now that we have cleaned the data and engineered new features, we can start building machine learning models to predict the median house value. We will start with a Simple Linear Regression model, which assumes a linear relationship between the features and the target variable."
   ]
  },
  {
   "cell_type": "code",
   "execution_count": 16,
   "id": "a12d373d-89d4-4e24-852c-be348404187f",
   "metadata": {
    "tags": []
   },
   "outputs": [
    {
     "data": {
      "text/html": [
       "<style>#sk-container-id-1 {color: black;background-color: white;}#sk-container-id-1 pre{padding: 0;}#sk-container-id-1 div.sk-toggleable {background-color: white;}#sk-container-id-1 label.sk-toggleable__label {cursor: pointer;display: block;width: 100%;margin-bottom: 0;padding: 0.3em;box-sizing: border-box;text-align: center;}#sk-container-id-1 label.sk-toggleable__label-arrow:before {content: \"▸\";float: left;margin-right: 0.25em;color: #696969;}#sk-container-id-1 label.sk-toggleable__label-arrow:hover:before {color: black;}#sk-container-id-1 div.sk-estimator:hover label.sk-toggleable__label-arrow:before {color: black;}#sk-container-id-1 div.sk-toggleable__content {max-height: 0;max-width: 0;overflow: hidden;text-align: left;background-color: #f0f8ff;}#sk-container-id-1 div.sk-toggleable__content pre {margin: 0.2em;color: black;border-radius: 0.25em;background-color: #f0f8ff;}#sk-container-id-1 input.sk-toggleable__control:checked~div.sk-toggleable__content {max-height: 200px;max-width: 100%;overflow: auto;}#sk-container-id-1 input.sk-toggleable__control:checked~label.sk-toggleable__label-arrow:before {content: \"▾\";}#sk-container-id-1 div.sk-estimator input.sk-toggleable__control:checked~label.sk-toggleable__label {background-color: #d4ebff;}#sk-container-id-1 div.sk-label input.sk-toggleable__control:checked~label.sk-toggleable__label {background-color: #d4ebff;}#sk-container-id-1 input.sk-hidden--visually {border: 0;clip: rect(1px 1px 1px 1px);clip: rect(1px, 1px, 1px, 1px);height: 1px;margin: -1px;overflow: hidden;padding: 0;position: absolute;width: 1px;}#sk-container-id-1 div.sk-estimator {font-family: monospace;background-color: #f0f8ff;border: 1px dotted black;border-radius: 0.25em;box-sizing: border-box;margin-bottom: 0.5em;}#sk-container-id-1 div.sk-estimator:hover {background-color: #d4ebff;}#sk-container-id-1 div.sk-parallel-item::after {content: \"\";width: 100%;border-bottom: 1px solid gray;flex-grow: 1;}#sk-container-id-1 div.sk-label:hover label.sk-toggleable__label {background-color: #d4ebff;}#sk-container-id-1 div.sk-serial::before {content: \"\";position: absolute;border-left: 1px solid gray;box-sizing: border-box;top: 0;bottom: 0;left: 50%;z-index: 0;}#sk-container-id-1 div.sk-serial {display: flex;flex-direction: column;align-items: center;background-color: white;padding-right: 0.2em;padding-left: 0.2em;position: relative;}#sk-container-id-1 div.sk-item {position: relative;z-index: 1;}#sk-container-id-1 div.sk-parallel {display: flex;align-items: stretch;justify-content: center;background-color: white;position: relative;}#sk-container-id-1 div.sk-item::before, #sk-container-id-1 div.sk-parallel-item::before {content: \"\";position: absolute;border-left: 1px solid gray;box-sizing: border-box;top: 0;bottom: 0;left: 50%;z-index: -1;}#sk-container-id-1 div.sk-parallel-item {display: flex;flex-direction: column;z-index: 1;position: relative;background-color: white;}#sk-container-id-1 div.sk-parallel-item:first-child::after {align-self: flex-end;width: 50%;}#sk-container-id-1 div.sk-parallel-item:last-child::after {align-self: flex-start;width: 50%;}#sk-container-id-1 div.sk-parallel-item:only-child::after {width: 0;}#sk-container-id-1 div.sk-dashed-wrapped {border: 1px dashed gray;margin: 0 0.4em 0.5em 0.4em;box-sizing: border-box;padding-bottom: 0.4em;background-color: white;}#sk-container-id-1 div.sk-label label {font-family: monospace;font-weight: bold;display: inline-block;line-height: 1.2em;}#sk-container-id-1 div.sk-label-container {text-align: center;}#sk-container-id-1 div.sk-container {/* jupyter's `normalize.less` sets `[hidden] { display: none; }` but bootstrap.min.css set `[hidden] { display: none !important; }` so we also need the `!important` here to be able to override the default hidden behavior on the sphinx rendered scikit-learn.org. See: https://github.com/scikit-learn/scikit-learn/issues/21755 */display: inline-block !important;position: relative;}#sk-container-id-1 div.sk-text-repr-fallback {display: none;}</style><div id=\"sk-container-id-1\" class=\"sk-top-container\"><div class=\"sk-text-repr-fallback\"><pre>LinearRegression()</pre><b>In a Jupyter environment, please rerun this cell to show the HTML representation or trust the notebook. <br />On GitHub, the HTML representation is unable to render, please try loading this page with nbviewer.org.</b></div><div class=\"sk-container\" hidden><div class=\"sk-item\"><div class=\"sk-estimator sk-toggleable\"><input class=\"sk-toggleable__control sk-hidden--visually\" id=\"sk-estimator-id-1\" type=\"checkbox\" checked><label for=\"sk-estimator-id-1\" class=\"sk-toggleable__label sk-toggleable__label-arrow\">LinearRegression</label><div class=\"sk-toggleable__content\"><pre>LinearRegression()</pre></div></div></div></div></div>"
      ],
      "text/plain": [
       "LinearRegression()"
      ]
     },
     "execution_count": 16,
     "metadata": {},
     "output_type": "execute_result"
    }
   ],
   "source": [
    "# Build a linear regression model\n",
    "from sklearn.linear_model import LinearRegression\n",
    "\n",
    "lr_model = LinearRegression()\n",
    "\n",
    "# Fit the model on the training data\n",
    "lr_model.fit(X_train, y_train)\n"
   ]
  },
  {
   "cell_type": "markdown",
   "id": "e6e888c8-b813-4d8e-a272-bd88e0db5a01",
   "metadata": {},
   "source": [
    "This code imports the LinearRegression class from Scikit-learn, creates a new instance of the class, and fits the model on the training data using the `fit()` method.\n",
    "\n",
    "Once we have built the model, we need to evaluate its performance on the testing data. We can use various metrics to evaluate the performance of the model, such as Mean Squared Error (MSE), Root Mean Squared Error (RMSE), and R-squared."
   ]
  },
  {
   "cell_type": "code",
   "execution_count": 18,
   "id": "d8b6922c-bf11-42c3-82f7-e857f0e35750",
   "metadata": {
    "tags": []
   },
   "outputs": [
    {
     "name": "stdout",
     "output_type": "stream",
     "text": [
      "Mean squared error: 5015030464.00645\n",
      "Root mean squared error: 70816.87979575526\n",
      "R-squared: 0.6172927271348023\n"
     ]
    }
   ],
   "source": [
    "# Evaluate the model on the testing data\n",
    "from sklearn.metrics import mean_squared_error, r2_score\n",
    "import numpy as np\n",
    "\n",
    "y_pred = lr_model.predict(X_test)\n",
    "\n",
    "mse = mean_squared_error(y_test, y_pred)\n",
    "rmse = np.sqrt(mse)\n",
    "r2 = r2_score(y_test, y_pred)\n",
    "\n",
    "print('Mean squared error:', mse)\n",
    "print('Root mean squared error:', rmse)\n",
    "print('R-squared:', r2)\n"
   ]
  },
  {
   "cell_type": "markdown",
   "id": "b0335549-07ab-4b5e-9707-b95527e8cbe8",
   "metadata": {},
   "source": [
    "This code imports the mean_squared_error, r2_score, and np (NumPy) classes from `Scikit-learn` and `NumPy`, and uses them to calculate the MSE, RMSE, and R-squared metrics for the linear regression model. The metrics are then printed to the console."
   ]
  },
  {
   "cell_type": "markdown",
   "id": "3cd2c083-8d16-4385-a830-23a2af0e65cf",
   "metadata": {},
   "source": [
    "**Note**: The lower MSE, RMSE and higher R-squared will be better. "
   ]
  },
  {
   "cell_type": "markdown",
   "id": "229319c2-11ef-486e-bfc7-08292fff9f4a",
   "metadata": {},
   "source": [
    "### Decision Tree Regressor"
   ]
  },
  {
   "cell_type": "markdown",
   "id": "8306ac0b-3a30-4dc1-a590-a1ecf7815d20",
   "metadata": {},
   "source": [
    "We'll start by building a decision tree model using Scikit-learn's `DecisionTreeRegressor` class. The decision tree algorithm will try to find the best splits in the data to minimize the mean squared error."
   ]
  },
  {
   "cell_type": "code",
   "execution_count": 19,
   "id": "dfb506a7-9a2e-4ac4-8616-103cba2f4263",
   "metadata": {
    "tags": []
   },
   "outputs": [
    {
     "data": {
      "text/html": [
       "<style>#sk-container-id-2 {color: black;background-color: white;}#sk-container-id-2 pre{padding: 0;}#sk-container-id-2 div.sk-toggleable {background-color: white;}#sk-container-id-2 label.sk-toggleable__label {cursor: pointer;display: block;width: 100%;margin-bottom: 0;padding: 0.3em;box-sizing: border-box;text-align: center;}#sk-container-id-2 label.sk-toggleable__label-arrow:before {content: \"▸\";float: left;margin-right: 0.25em;color: #696969;}#sk-container-id-2 label.sk-toggleable__label-arrow:hover:before {color: black;}#sk-container-id-2 div.sk-estimator:hover label.sk-toggleable__label-arrow:before {color: black;}#sk-container-id-2 div.sk-toggleable__content {max-height: 0;max-width: 0;overflow: hidden;text-align: left;background-color: #f0f8ff;}#sk-container-id-2 div.sk-toggleable__content pre {margin: 0.2em;color: black;border-radius: 0.25em;background-color: #f0f8ff;}#sk-container-id-2 input.sk-toggleable__control:checked~div.sk-toggleable__content {max-height: 200px;max-width: 100%;overflow: auto;}#sk-container-id-2 input.sk-toggleable__control:checked~label.sk-toggleable__label-arrow:before {content: \"▾\";}#sk-container-id-2 div.sk-estimator input.sk-toggleable__control:checked~label.sk-toggleable__label {background-color: #d4ebff;}#sk-container-id-2 div.sk-label input.sk-toggleable__control:checked~label.sk-toggleable__label {background-color: #d4ebff;}#sk-container-id-2 input.sk-hidden--visually {border: 0;clip: rect(1px 1px 1px 1px);clip: rect(1px, 1px, 1px, 1px);height: 1px;margin: -1px;overflow: hidden;padding: 0;position: absolute;width: 1px;}#sk-container-id-2 div.sk-estimator {font-family: monospace;background-color: #f0f8ff;border: 1px dotted black;border-radius: 0.25em;box-sizing: border-box;margin-bottom: 0.5em;}#sk-container-id-2 div.sk-estimator:hover {background-color: #d4ebff;}#sk-container-id-2 div.sk-parallel-item::after {content: \"\";width: 100%;border-bottom: 1px solid gray;flex-grow: 1;}#sk-container-id-2 div.sk-label:hover label.sk-toggleable__label {background-color: #d4ebff;}#sk-container-id-2 div.sk-serial::before {content: \"\";position: absolute;border-left: 1px solid gray;box-sizing: border-box;top: 0;bottom: 0;left: 50%;z-index: 0;}#sk-container-id-2 div.sk-serial {display: flex;flex-direction: column;align-items: center;background-color: white;padding-right: 0.2em;padding-left: 0.2em;position: relative;}#sk-container-id-2 div.sk-item {position: relative;z-index: 1;}#sk-container-id-2 div.sk-parallel {display: flex;align-items: stretch;justify-content: center;background-color: white;position: relative;}#sk-container-id-2 div.sk-item::before, #sk-container-id-2 div.sk-parallel-item::before {content: \"\";position: absolute;border-left: 1px solid gray;box-sizing: border-box;top: 0;bottom: 0;left: 50%;z-index: -1;}#sk-container-id-2 div.sk-parallel-item {display: flex;flex-direction: column;z-index: 1;position: relative;background-color: white;}#sk-container-id-2 div.sk-parallel-item:first-child::after {align-self: flex-end;width: 50%;}#sk-container-id-2 div.sk-parallel-item:last-child::after {align-self: flex-start;width: 50%;}#sk-container-id-2 div.sk-parallel-item:only-child::after {width: 0;}#sk-container-id-2 div.sk-dashed-wrapped {border: 1px dashed gray;margin: 0 0.4em 0.5em 0.4em;box-sizing: border-box;padding-bottom: 0.4em;background-color: white;}#sk-container-id-2 div.sk-label label {font-family: monospace;font-weight: bold;display: inline-block;line-height: 1.2em;}#sk-container-id-2 div.sk-label-container {text-align: center;}#sk-container-id-2 div.sk-container {/* jupyter's `normalize.less` sets `[hidden] { display: none; }` but bootstrap.min.css set `[hidden] { display: none !important; }` so we also need the `!important` here to be able to override the default hidden behavior on the sphinx rendered scikit-learn.org. See: https://github.com/scikit-learn/scikit-learn/issues/21755 */display: inline-block !important;position: relative;}#sk-container-id-2 div.sk-text-repr-fallback {display: none;}</style><div id=\"sk-container-id-2\" class=\"sk-top-container\"><div class=\"sk-text-repr-fallback\"><pre>DecisionTreeRegressor(random_state=42)</pre><b>In a Jupyter environment, please rerun this cell to show the HTML representation or trust the notebook. <br />On GitHub, the HTML representation is unable to render, please try loading this page with nbviewer.org.</b></div><div class=\"sk-container\" hidden><div class=\"sk-item\"><div class=\"sk-estimator sk-toggleable\"><input class=\"sk-toggleable__control sk-hidden--visually\" id=\"sk-estimator-id-2\" type=\"checkbox\" checked><label for=\"sk-estimator-id-2\" class=\"sk-toggleable__label sk-toggleable__label-arrow\">DecisionTreeRegressor</label><div class=\"sk-toggleable__content\"><pre>DecisionTreeRegressor(random_state=42)</pre></div></div></div></div></div>"
      ],
      "text/plain": [
       "DecisionTreeRegressor(random_state=42)"
      ]
     },
     "execution_count": 19,
     "metadata": {},
     "output_type": "execute_result"
    }
   ],
   "source": [
    "# Build a decision tree regression model\n",
    "from sklearn.tree import DecisionTreeRegressor\n",
    "\n",
    "dt_model = DecisionTreeRegressor(random_state=42)\n",
    "\n",
    "# Fit the model on the training data\n",
    "dt_model.fit(X_train, y_train)\n"
   ]
  },
  {
   "cell_type": "markdown",
   "id": "3410eee9-483a-4edd-a341-e4bde0d8bce5",
   "metadata": {},
   "source": [
    "This code imports the `DecisionTreeRegressor` class from `Scikit-learn`, creates a new instance of the class with a random state of 42, and fits the model on the training data using the `fit()` method.\n",
    "Now we can evaluate the performance of the decision tree model on the testing data."
   ]
  },
  {
   "cell_type": "code",
   "execution_count": 20,
   "id": "2f8f1898-fcf1-45eb-801e-10281bcf7f10",
   "metadata": {
    "tags": []
   },
   "outputs": [
    {
     "name": "stdout",
     "output_type": "stream",
     "text": [
      "Mean squared error: 5234473352.656977\n",
      "Root mean squared error: 72349.66034928552\n",
      "R-squared: 0.6005465896850186\n"
     ]
    }
   ],
   "source": [
    "# Evaluate the model on the testing data\n",
    "y_pred = dt_model.predict(X_test)\n",
    "\n",
    "mse = mean_squared_error(y_test, y_pred)\n",
    "rmse = np.sqrt(mse)\n",
    "r2 = r2_score(y_test, y_pred)\n",
    "\n",
    "print('Mean squared error:', mse)\n",
    "print('Root mean squared error:', rmse)\n",
    "print('R-squared:', r2)"
   ]
  },
  {
   "cell_type": "markdown",
   "id": "627e2aad-3f79-4ac6-9ea5-c7da4e3e3ee6",
   "metadata": {},
   "source": [
    "This code uses the mean_squared_error, r2_score, and np classes from Scikit-learn and NumPy to calculate the MSE, RMSE, and R-squared metrics for the decision tree model."
   ]
  },
  {
   "cell_type": "markdown",
   "id": "5775ec07-f22d-409a-8db4-5c816720c6cd",
   "metadata": {},
   "source": [
    "As you can see that, the result of `Decision Tree Regressor` is not good as `Simple Linear Regressor’s`.  We can tune the `hyperparameters` of the decision tree model to improve its performance. For example, we can adjust the maximum depth of the tree, the minimum number of samples required to split an internal node, and the minimum number of samples required to be at a leaf node. Note that, you can build your own suitable grid of parameters for you experiments."
   ]
  },
  {
   "cell_type": "code",
   "execution_count": 22,
   "id": "7eda8243-b0a3-4b5a-84fd-6ff8d9503aa3",
   "metadata": {
    "tags": []
   },
   "outputs": [
    {
     "name": "stdout",
     "output_type": "stream",
     "text": [
      "Best hyperparameters: {'max_depth': 10, 'min_samples_leaf': 4, 'min_samples_split': 10}\n",
      "Best score: 0.6834356540382049\n"
     ]
    }
   ],
   "source": [
    "# Grid search for hyperparameter tuning\n",
    "from sklearn.model_selection import GridSearchCV\n",
    "\n",
    "# Hyperparameter tuning using cross-validation\n",
    "param_grid = {\n",
    "    'max_depth': [None, 5, 10, 15],\n",
    "    'min_samples_split': [2, 5, 10],\n",
    "    'min_samples_leaf': [1, 2, 4]\n",
    "}\n",
    "\n",
    "grid = GridSearchCV(dt_model, param_grid, cv=5)\n",
    "\n",
    "grid.fit(X_train, y_train)\n",
    "\n",
    "print('Best hyperparameters:', grid.best_params_)\n",
    "print('Best score:', grid.best_score_)\n"
   ]
  },
  {
   "cell_type": "markdown",
   "id": "d9e77833-b3f8-48c2-86a6-647cb3eb41fb",
   "metadata": {},
   "source": [
    "This code creates a parameter grid with different values for the `maximum depth`, `minimum samples` to split, and `minimum samples` at a leaf node. The `GridSearchCV` class then performs a grid search over the parameter grid using `Cross-Validation`, and returns the best `hyperparameters` and the best score.\n",
    "Finally, we can evaluate the performance of the tuned decision tree model on the testing data."
   ]
  },
  {
   "cell_type": "code",
   "execution_count": 23,
   "id": "2fd265b1-b35d-4d44-a3be-4d9f45564238",
   "metadata": {
    "tags": []
   },
   "outputs": [
    {
     "name": "stdout",
     "output_type": "stream",
     "text": [
      "Mean squared error (tuned): 4169029218.4578447\n",
      "Root mean squared error (tuned): 64568.02009089209\n",
      "R-squared (tuned): 0.6818528194110535\n"
     ]
    }
   ],
   "source": [
    "# Evaluate the tuned model on the testing data\n",
    "tuned_dt_model = DecisionTreeRegressor(\n",
    "    max_depth=10,\n",
    "    min_samples_split=4,\n",
    "    min_samples_leaf=10,\n",
    "    random_state=42\n",
    ")\n",
    "\n",
    "tuned_dt_model.fit(X_train, y_train)\n",
    "\n",
    "y_pred_tuned = tuned_dt_model.predict(X_test)\n",
    "\n",
    "mse_tuned = mean_squared_error(y_test, y_pred_tuned)\n",
    "rmse_tuned = np.sqrt(mse_tuned)\n",
    "r2_tuned = r2_score(y_test, y_pred_tuned)\n",
    "\n",
    "print('Mean squared error (tuned):', mse_tuned)\n",
    "print('Root mean squared error (tuned):', rmse_tuned)\n",
    "print('R-squared (tuned):', r2_tuned)"
   ]
  },
  {
   "cell_type": "markdown",
   "id": "6ede0e35-213c-4425-936c-ee925335ffca",
   "metadata": {},
   "source": [
    "This code creates a new instance of the `DecisionTreeRegressor` class with the optimal hyperparameters, fits the model on the training data, and evaluates its performance on the testing data. As you see that, the output of the tuned model is **better** than its original model and Simple Linear Regression."
   ]
  },
  {
   "cell_type": "markdown",
   "id": "841408ae-addd-49b1-adb7-ff4e8672c508",
   "metadata": {},
   "source": [
    "### Random Forest Regressor"
   ]
  },
  {
   "cell_type": "markdown",
   "id": "239f1869-d0fd-424c-b1b6-525126e36030",
   "metadata": {},
   "source": [
    "We'll start by building a random forest model using Scikit-learn's `RandomForestRegressor` class. A random forest is an ensemble learning method that combines multiple decision trees to improve the performance of the model."
   ]
  },
  {
   "cell_type": "code",
   "execution_count": 24,
   "id": "ec644f15-7348-4051-a99c-c88826741ad3",
   "metadata": {
    "tags": []
   },
   "outputs": [
    {
     "data": {
      "text/html": [
       "<style>#sk-container-id-3 {color: black;background-color: white;}#sk-container-id-3 pre{padding: 0;}#sk-container-id-3 div.sk-toggleable {background-color: white;}#sk-container-id-3 label.sk-toggleable__label {cursor: pointer;display: block;width: 100%;margin-bottom: 0;padding: 0.3em;box-sizing: border-box;text-align: center;}#sk-container-id-3 label.sk-toggleable__label-arrow:before {content: \"▸\";float: left;margin-right: 0.25em;color: #696969;}#sk-container-id-3 label.sk-toggleable__label-arrow:hover:before {color: black;}#sk-container-id-3 div.sk-estimator:hover label.sk-toggleable__label-arrow:before {color: black;}#sk-container-id-3 div.sk-toggleable__content {max-height: 0;max-width: 0;overflow: hidden;text-align: left;background-color: #f0f8ff;}#sk-container-id-3 div.sk-toggleable__content pre {margin: 0.2em;color: black;border-radius: 0.25em;background-color: #f0f8ff;}#sk-container-id-3 input.sk-toggleable__control:checked~div.sk-toggleable__content {max-height: 200px;max-width: 100%;overflow: auto;}#sk-container-id-3 input.sk-toggleable__control:checked~label.sk-toggleable__label-arrow:before {content: \"▾\";}#sk-container-id-3 div.sk-estimator input.sk-toggleable__control:checked~label.sk-toggleable__label {background-color: #d4ebff;}#sk-container-id-3 div.sk-label input.sk-toggleable__control:checked~label.sk-toggleable__label {background-color: #d4ebff;}#sk-container-id-3 input.sk-hidden--visually {border: 0;clip: rect(1px 1px 1px 1px);clip: rect(1px, 1px, 1px, 1px);height: 1px;margin: -1px;overflow: hidden;padding: 0;position: absolute;width: 1px;}#sk-container-id-3 div.sk-estimator {font-family: monospace;background-color: #f0f8ff;border: 1px dotted black;border-radius: 0.25em;box-sizing: border-box;margin-bottom: 0.5em;}#sk-container-id-3 div.sk-estimator:hover {background-color: #d4ebff;}#sk-container-id-3 div.sk-parallel-item::after {content: \"\";width: 100%;border-bottom: 1px solid gray;flex-grow: 1;}#sk-container-id-3 div.sk-label:hover label.sk-toggleable__label {background-color: #d4ebff;}#sk-container-id-3 div.sk-serial::before {content: \"\";position: absolute;border-left: 1px solid gray;box-sizing: border-box;top: 0;bottom: 0;left: 50%;z-index: 0;}#sk-container-id-3 div.sk-serial {display: flex;flex-direction: column;align-items: center;background-color: white;padding-right: 0.2em;padding-left: 0.2em;position: relative;}#sk-container-id-3 div.sk-item {position: relative;z-index: 1;}#sk-container-id-3 div.sk-parallel {display: flex;align-items: stretch;justify-content: center;background-color: white;position: relative;}#sk-container-id-3 div.sk-item::before, #sk-container-id-3 div.sk-parallel-item::before {content: \"\";position: absolute;border-left: 1px solid gray;box-sizing: border-box;top: 0;bottom: 0;left: 50%;z-index: -1;}#sk-container-id-3 div.sk-parallel-item {display: flex;flex-direction: column;z-index: 1;position: relative;background-color: white;}#sk-container-id-3 div.sk-parallel-item:first-child::after {align-self: flex-end;width: 50%;}#sk-container-id-3 div.sk-parallel-item:last-child::after {align-self: flex-start;width: 50%;}#sk-container-id-3 div.sk-parallel-item:only-child::after {width: 0;}#sk-container-id-3 div.sk-dashed-wrapped {border: 1px dashed gray;margin: 0 0.4em 0.5em 0.4em;box-sizing: border-box;padding-bottom: 0.4em;background-color: white;}#sk-container-id-3 div.sk-label label {font-family: monospace;font-weight: bold;display: inline-block;line-height: 1.2em;}#sk-container-id-3 div.sk-label-container {text-align: center;}#sk-container-id-3 div.sk-container {/* jupyter's `normalize.less` sets `[hidden] { display: none; }` but bootstrap.min.css set `[hidden] { display: none !important; }` so we also need the `!important` here to be able to override the default hidden behavior on the sphinx rendered scikit-learn.org. See: https://github.com/scikit-learn/scikit-learn/issues/21755 */display: inline-block !important;position: relative;}#sk-container-id-3 div.sk-text-repr-fallback {display: none;}</style><div id=\"sk-container-id-3\" class=\"sk-top-container\"><div class=\"sk-text-repr-fallback\"><pre>RandomForestRegressor(random_state=42)</pre><b>In a Jupyter environment, please rerun this cell to show the HTML representation or trust the notebook. <br />On GitHub, the HTML representation is unable to render, please try loading this page with nbviewer.org.</b></div><div class=\"sk-container\" hidden><div class=\"sk-item\"><div class=\"sk-estimator sk-toggleable\"><input class=\"sk-toggleable__control sk-hidden--visually\" id=\"sk-estimator-id-3\" type=\"checkbox\" checked><label for=\"sk-estimator-id-3\" class=\"sk-toggleable__label sk-toggleable__label-arrow\">RandomForestRegressor</label><div class=\"sk-toggleable__content\"><pre>RandomForestRegressor(random_state=42)</pre></div></div></div></div></div>"
      ],
      "text/plain": [
       "RandomForestRegressor(random_state=42)"
      ]
     },
     "execution_count": 24,
     "metadata": {},
     "output_type": "execute_result"
    }
   ],
   "source": [
    "# Build a random forest regression model\n",
    "from sklearn.ensemble import RandomForestRegressor\n",
    "\n",
    "rf_model = RandomForestRegressor(n_estimators=100, random_state=42)\n",
    "\n",
    "# Fit the model on the training data\n",
    "rf_model.fit(X_train, y_train)"
   ]
  },
  {
   "cell_type": "markdown",
   "id": "82448671-25e1-4de4-850d-88970b210214",
   "metadata": {},
   "source": [
    "This code imports the `RandomForestRegressor` class from Scikit-learn, creates a new instance of the class with 100 estimators and a random state of 42, and fits the model on the training data using the `fit()` method.\n",
    "Now we can evaluate the performance of the random forest model on the testing data."
   ]
  },
  {
   "cell_type": "code",
   "execution_count": 25,
   "id": "e9e72ed4-ca93-4778-b298-ad1239de9bbd",
   "metadata": {
    "tags": []
   },
   "outputs": [
    {
     "name": "stdout",
     "output_type": "stream",
     "text": [
      "Mean squared error: 2623650406.5325766\n",
      "Root mean squared error: 51221.5814528659\n",
      "R-squared: 0.7997838499203066\n"
     ]
    }
   ],
   "source": [
    "# Evaluate the model on the testing data\n",
    "y_pred = rf_model.predict(X_test)\n",
    "\n",
    "mse = mean_squared_error(y_test, y_pred)\n",
    "rmse = np.sqrt(mse)\n",
    "r2 = r2_score(y_test, y_pred)\n",
    "\n",
    "print('Mean squared error:', mse)\n",
    "print('Root mean squared error:', rmse)\n",
    "print('R-squared:', r2)"
   ]
  },
  {
   "cell_type": "markdown",
   "id": "658d03b4-a350-4fb9-b674-bacc1281dc4c",
   "metadata": {},
   "source": [
    "This code uses the **mean_squared_error**, **r2_score**, and **np** classes from Scikit-learn and NumPy to calculate the MSE, RMSE, and R-squared metrics for the random forest model. The metrics are then printed to the console.\n",
    "\n",
    "We can tune the hyperparameters of the random forest model to improve its performance. For example, we can adjust the number of trees in the forest, the maximum depth of the trees, and the minimum number of samples required to be at a leaf node. Note that, you can build your own suitable grid of parameters for you experiments."
   ]
  },
  {
   "cell_type": "code",
   "execution_count": 26,
   "id": "740ac425-724c-46c5-a9b8-9d3772cd5d53",
   "metadata": {
    "tags": []
   },
   "outputs": [
    {
     "name": "stdout",
     "output_type": "stream",
     "text": [
      "Best hyperparameters: {'max_depth': None, 'min_samples_leaf': 2, 'min_samples_split': 2, 'n_estimators': 200}\n",
      "Best score: 0.8027985087088908\n"
     ]
    }
   ],
   "source": [
    "# Hyperparameter tuning using cross-validation\n",
    "param_grid = {\n",
    "    'n_estimators': [50, 100, 200],\n",
    "    'max_depth': [None, 5, 10],\n",
    "    'min_samples_split': [2, 5],\n",
    "    'min_samples_leaf': [1, 2]\n",
    "}\n",
    "\n",
    "grid = GridSearchCV(rf_model, param_grid, cv=5)\n",
    "\n",
    "grid.fit(X_train, y_train)\n",
    "\n",
    "print('Best hyperparameters:', grid.best_params_)\n",
    "print('Best score:', grid.best_score_)"
   ]
  },
  {
   "cell_type": "markdown",
   "id": "fe445a1f-ba71-4a2a-a18f-85f61da3050b",
   "metadata": {},
   "source": [
    "This code creates a parameter grid with different values for the number of `estimators`, `maximum depth`, `minimum samples` to split, and `minimum samples` at a leaf node. The `GridSearchCV` class then performs a grid search over the parameter grid using `cross-validation`, and returns the best hyperparameters and the best score.\n",
    "\n",
    "Finally, we can evaluate the performance of the tuned random forest model on the testing data."
   ]
  },
  {
   "cell_type": "code",
   "execution_count": 27,
   "id": "29c95fb3-4af6-47aa-91d9-53353b2d599c",
   "metadata": {
    "tags": []
   },
   "outputs": [
    {
     "name": "stdout",
     "output_type": "stream",
     "text": [
      "Mean squared error (tuned): 2606759753.0945497\n",
      "Root mean squared error (tuned): 51056.43694084566\n",
      "R-squared (tuned): 0.8010728103684182\n"
     ]
    }
   ],
   "source": [
    "# Evaluate the tuned model on the testing data\n",
    "tuned_rf_model = RandomForestRegressor(\n",
    "    n_estimators=200,\n",
    "    min_samples_split=2,\n",
    "    min_samples_leaf=2,\n",
    "    random_state=42\n",
    ")\n",
    "\n",
    "tuned_rf_model.fit(X_train, y_train)\n",
    "\n",
    "y_pred_tuned = tuned_rf_model.predict(X_test)\n",
    "\n",
    "mse_tuned = mean_squared_error(y_test, y_pred_tuned)\n",
    "rmse_tuned = np.sqrt(mse_tuned)\n",
    "r2_tuned = r2_score(y_test, y_pred_tuned)\n",
    "\n",
    "print('Mean squared error (tuned):', mse_tuned)\n",
    "print('Root mean squared error (tuned):', rmse_tuned)\n",
    "print('R-squared (tuned):', r2_tuned)"
   ]
  },
  {
   "cell_type": "markdown",
   "id": "4a7e3742-b33d-4f19-9730-989a9946337a",
   "metadata": {},
   "source": [
    "This code creates a new instance of the `RandomForestRegressor` class with the optimal hyperparameters, fits the model on the training data, and evaluates its performance on the testing data. As you see that, the output of the tuned model is better than others. \n",
    "\n",
    "I recommend that you can experiment with many different models. However, using `Cross-validation` or `penalty function techniques` like **L1** or **L2** to avoid overfitting. The choice of model depends quite a lot on the data properties as well as the problem requirements."
   ]
  },
  {
   "cell_type": "markdown",
   "id": "9544242c-1302-4b1d-bf6d-ea1386ff9207",
   "metadata": {},
   "source": [
    "## Step 8: Model Serialization"
   ]
  },
  {
   "cell_type": "markdown",
   "id": "b57f1e13-fb98-4c37-ad41-9bf4750ace1e",
   "metadata": {},
   "source": [
    "When deploying a machine learning model, it's important to choose a format and serialization method that is efficient and portable. For example, I choose `ONNX` (Open Neural Network Exchange) format for this purpose, which allows for cross-platform deployment and interoperability with other frameworks.\n",
    "To save the tuned California housing random forest model we trained earlier in the ONNX format, we can use the onnxmltools package in Python.\n",
    "\n",
    "Here's an example code snippet:"
   ]
  },
  {
   "cell_type": "code",
   "execution_count": 28,
   "id": "101442c3-27c5-4c13-a3e4-58b16bbd4294",
   "metadata": {
    "tags": []
   },
   "outputs": [],
   "source": [
    "import onnxmltools\n",
    "from skl2onnx import convert_sklearn\n",
    "from skl2onnx.common.data_types import FloatTensorType\n",
    "\n",
    "initial_type = [('float_input', FloatTensorType([None, X_train.shape[1]]))]\n",
    "onnx_model = convert_sklearn(tuned_rf_model, 'Random Forest', initial_types=initial_type)\n",
    "\n",
    "# Save the ONNX model to a file\n",
    "onnxmltools.utils.save_model(onnx_model, 'california_housing.onnx')\n"
   ]
  },
  {
   "cell_type": "markdown",
   "id": "31258763-43a4-496c-9f3e-342e6ac5af28",
   "metadata": {},
   "source": [
    "This code imports the **onnxmltools** and **skl2onnx** packages, and uses the `convert_sklearn()` function from skl2onnx to convert the tuned Random Forest model to the ONNX format. The resulting ONNX model is saved to a file called **california_housing.onnx** using the `save_model()` function from `onnxmltools`."
   ]
  },
  {
   "cell_type": "markdown",
   "id": "a62d72d5-7fd4-45cd-a526-27166b763d92",
   "metadata": {},
   "source": [
    "To load and use the saved ONNX model in another application, we can use the ONNX Runtime package, which provides a high-performance inference engine for ONNX models. Here's an example code snippet for loading and using the saved ONNX model:"
   ]
  },
  {
   "cell_type": "code",
   "execution_count": 29,
   "id": "245ef978-6a5b-44a0-8c91-7e4a8f228a12",
   "metadata": {
    "tags": []
   },
   "outputs": [
    {
     "name": "stdout",
     "output_type": "stream",
     "text": [
      "[[425923.25]\n",
      " [402296.2 ]]\n"
     ]
    }
   ],
   "source": [
    "import onnxruntime\n",
    "import numpy as np\n",
    "\n",
    "# Load the ONNX model\n",
    "sess = onnxruntime.InferenceSession(\"california_housing.onnx\", providers=[\"CPUExecutionProvider\"])\n",
    "\n",
    "# Define the input tensor shape\n",
    "input_name = sess.get_inputs()[0].name\n",
    "label_name = sess.get_outputs()[0].name\n",
    "input_shape = sess.get_inputs()[0].shape\n",
    "\n",
    "def predict(X):\n",
    "    # Prepare the input tensor\n",
    "    input_data = np.array(X).astype(np.float32)\n",
    "\n",
    "    if input_data.size == input_shape[1]:\n",
    "        input_data = input_data.reshape([1, input_shape[1]])\n",
    "\n",
    "    # Run the model\n",
    "    outputs = sess.run([label_name], {input_name: input_data})\n",
    "\n",
    "    # Return the output\n",
    "    return outputs[0]\n",
    "\n",
    "test_x = [[-122.23,\t37.88,\t41.0,\t880.0,\t129.0\t,322.0\t,126.0,\t8.3252,\t6.984127], \n",
    "          [-122.22,\t37.86,\t21.0,\t7099.0\t,1106.0,\t2401.0,\t1138.0,\t8.3014\t,\t6.238137]]\n",
    "pred = predict(test_x)\n",
    "print(pred)\n"
   ]
  },
  {
   "cell_type": "markdown",
   "id": "2bbdd892-6f98-4d22-975f-30636966762e",
   "metadata": {},
   "source": [
    "This code imports the **onnxruntime** package, and loads the ONNX model from the **california_housing.onnx** file using the InferenceSession class from onnxruntime. We can then use the `run()` method of the InferenceSession object to make predictions on new data. In this example, we use custom data for testing, and print the predicted values to the console."
   ]
  },
  {
   "cell_type": "markdown",
   "id": "7f1ac2c3-7e75-45d7-93e8-e144d07a1a21",
   "metadata": {},
   "source": [
    "## Step 9: Model Deployment"
   ]
  },
  {
   "cell_type": "markdown",
   "id": "a3fae3d0-3759-4303-9b2c-4f273f2d2009",
   "metadata": {},
   "source": [
    "**Docker** is a containerization platform that enables you to package your application and its dependencies into a portable container that can run on any machine. Docker provides a consistent environment for your application, ensuring that it runs the same way on different machines, regardless of the underlying operating system and hardware.\n",
    "\n",
    "Here's how you can package your machine learning model using Docker:"
   ]
  },
  {
   "cell_type": "markdown",
   "id": "ad487df5-8b3a-4ff7-ab61-ff8c61fc8f17",
   "metadata": {},
   "source": [
    "- **Create a Dockerfile**: A Dockerfile is a text file that contains instructions for building a Docker image. To create a Dockerfile for your machine learning model, open a text editor and add the following lines:"
   ]
  },
  {
   "cell_type": "code",
   "execution_count": null,
   "id": "b74b5cbf-d027-481f-9d85-c18aaaf86adf",
   "metadata": {},
   "outputs": [],
   "source": [
    "FROM python:3.8-slim-buster\n",
    "COPY . /app\n",
    "WORKDIR /app\n",
    "RUN pip install -r requirements.txt\n",
    "CMD [\"python\", \"predict_california_housing_price.py\"]"
   ]
  },
  {
   "cell_type": "markdown",
   "id": "6e417612-f9ed-4f2e-b483-9db2293a5df3",
   "metadata": {},
   "source": [
    "This Dockerfile uses the official Python 3.8 Docker image as the base image, copies the contents of the current directory to the `/app` directory inside the container, installs the Python dependencies specified in **requirements.txt**, and sets the default command to run the **predict.py** script."
   ]
  },
  {
   "cell_type": "markdown",
   "id": "9e032342-4b9b-43d7-9b21-cf5f58254530",
   "metadata": {},
   "source": [
    "- **Create a requirements.txt file**: This file should contain the list of Python packages and their versions required by your machine learning model. Here's an example:\n",
    "```\n",
    "numpy==1.22.1\n",
    "scikit-learn==1.1.1\n",
    "onnxruntime==1.14.0\n",
    "onnx==1.13.0\n",
    "skl2onnx==1.13\n",
    "```"
   ]
  },
  {
   "cell_type": "markdown",
   "id": "2ac89a84-18ba-4ac8-9815-3bfff9acc21b",
   "metadata": {},
   "source": [
    "- **Create a predict_california_housing_price.py file**: This file should contain the code to load the model and make predictions. Here's an example:"
   ]
  },
  {
   "cell_type": "code",
   "execution_count": 30,
   "id": "ea2b8fc0-eb82-4700-93b6-c41dd785a2ae",
   "metadata": {
    "tags": []
   },
   "outputs": [],
   "source": [
    "import onnxruntime\n",
    "import numpy as np\n",
    "\n",
    "# Load the ONNX model\n",
    "sess = onnxruntime.InferenceSession(\"california_housing.onnx\", providers=[\"CPUExecutionProvider\"])\n",
    "\n",
    "# Define the input tensor shape\n",
    "input_name = sess.get_inputs()[0].name\n",
    "label_name = sess.get_outputs()[0].name\n",
    "input_shape = sess.get_inputs()[0].shape\n",
    "\n",
    "def predict(X):\n",
    "    # Prepare the input tensor\n",
    "    input_data = np.array(X).astype(np.float32)\n",
    "\n",
    "    if input_data.size == input_shape[1]:\n",
    "        input_data = input_data.reshape([1, input_shape[1]])\n",
    "\n",
    "    # Run the model\n",
    "    outputs = sess.run([label_name], {input_name: input_data})\n",
    "\n",
    "    # Return the output\n",
    "    return outputs[0]"
   ]
  },
  {
   "cell_type": "markdown",
   "id": "bc63e2b4-9959-4221-b91f-c1c087dd9767",
   "metadata": {},
   "source": [
    "This code uses the **onnxruntime** library to load the ONNX model and define the input tensor shape. The `predict()` function takes a list of input features, converts them to a NumPy array of the appropriate shape, runs the model, and returns the output."
   ]
  },
  {
   "cell_type": "markdown",
   "id": "5b895d93-e3ff-41e2-983b-66a1e2bd260f",
   "metadata": {},
   "source": [
    "- **Build the Docker image**: To build the Docker image, open a terminal window, navigate to the directory containing the Dockerfile, **requirements.txt**, and **predict.py** files, and run the following command:\n",
    "\n",
    "```\n",
    "docker build -t my-model .\n",
    "```"
   ]
  },
  {
   "cell_type": "markdown",
   "id": "c5fe3c72-3d9d-4c50-9a43-ccaf9e11ee7c",
   "metadata": {},
   "source": [
    "    This command builds a Docker image with the tag **my-model** using the current directory as the build context. The dot at the end of the command indicates the current directory."
   ]
  },
  {
   "cell_type": "markdown",
   "id": "e47c71fc-13b1-40f0-8ede-8d512850a94e",
   "metadata": {},
   "source": [
    "- **Run the Docker container**: To run the Docker container, run the following command:\n",
    "\n",
    "```\n",
    "docker run -p 8080:8080 my-model\n",
    "```"
   ]
  },
  {
   "cell_type": "markdown",
   "id": "f9b5b92a-2ff5-4409-a2af-3b270be3ac14",
   "metadata": {},
   "source": [
    "    This command starts a Docker container from the `my-model` image and maps port 8080 in the container to port 8080 on the host machine. You can now make predictions by sending HTTP requests to `http://localhost:8080/predict`. You've successfully packaged your machine learning model using Docker."
   ]
  },
  {
   "cell_type": "markdown",
   "id": "a9768b66-b17f-42b4-882b-568f49c9cb52",
   "metadata": {},
   "source": [
    "## Step 10: Testing"
   ]
  },
  {
   "cell_type": "markdown",
   "id": "24cba599-41af-4bc2-97b2-cb3de5ce0a2e",
   "metadata": {},
   "source": [
    "Testing a Dockerized model involves running the Docker container and making requests to the model API endpoint. Here are the steps to test the Dockerized model:"
   ]
  },
  {
   "cell_type": "markdown",
   "id": "173a8e2f-2aba-48f3-af65-d31741748435",
   "metadata": {},
   "source": [
    "- **Start the Docker container**: Run the following command to start the Docker container that hosts the model API:\n",
    "\n",
    "```\n",
    "docker run -p 8000:8000 my-model\n",
    "```"
   ]
  },
  {
   "cell_type": "markdown",
   "id": "2c2bd1c1-30c7-4675-a476-0ace1f48b1b6",
   "metadata": {},
   "source": [
    "    Here, `my-model` is the name of the Docker image that contains the model API, and 8000 is the port on which the container will be accessible. You must make sure port 8000 is accessible. "
   ]
  },
  {
   "cell_type": "markdown",
   "id": "31ba2730-7d61-4757-b0c6-6049109ebcf1",
   "metadata": {},
   "source": [
    "- **Test the model API**: Use the requests library in Python to make requests to the model API endpoint. Here is an example code snippet that sends a sample input to the model API and prints the response:"
   ]
  },
  {
   "cell_type": "code",
   "execution_count": null,
   "id": "286bda86-f3d7-42ee-9f48-bd0d9625e68c",
   "metadata": {},
   "outputs": [],
   "source": [
    "import requests\n",
    "import json\n",
    "\n",
    "# Define the API endpoint\n",
    "api_url = 'http://localhost:8000/predict'\n",
    "\n",
    "# Define the input data\n",
    "input_data = {\n",
    "    \"data\": [\n",
    "      [[-122.23, 37.88, 41.0, 880.0, 129.0, 322.0 , 126.0, 8.3252, 6.984127], \n",
    "          [-122.22, 37.86, 21.0, 7099.0, 1106.0, 2401.0, 1138.0, 8.3014, 6.238137]]\n",
    "\n",
    "    ]\n",
    "}\n",
    "\n",
    "# Make a POST request to the API endpoint\n",
    "response = requests.post(api_url, data=json.dumps(input_data))\n",
    "\n",
    "# Parse the response JSON\n",
    "response_data = json.loads(response.text)\n",
    "\n",
    "# Print the response\n",
    "print(response_data)\n"
   ]
  },
  {
   "cell_type": "markdown",
   "id": "aaf5355a-3a27-431b-bc56-b48e72a828cf",
   "metadata": {},
   "source": [
    "In this code snippet, we define the API endpoint as http://localhost:8000/predict, and we define the input data as a Python dictionary. We then use the requests library to make a POST request to the API endpoint with the input data as the request payload. Finally, we parse the response JSON and print it."
   ]
  },
  {
   "cell_type": "markdown",
   "id": "836026ee-c725-4eb1-ac74-1e1051e2d6f5",
   "metadata": {},
   "source": [
    "- **Verify the response**: The response from the model API should contain the model's prediction for the input data. Verify that the response matches your expectations based on the input data and the model's behavior."
   ]
  },
  {
   "cell_type": "markdown",
   "id": "0f280d43-c751-442f-b8cc-326dbdd5dad4",
   "metadata": {},
   "source": [
    "    If the response is not as expected, you may need to debug the model API code or the Docker container configuration."
   ]
  },
  {
   "cell_type": "markdown",
   "id": "27ee0790-b00a-4b12-8f1d-6f1d49cbeb4c",
   "metadata": {},
   "source": [
    "## Step 11: Publish the Docker Image"
   ]
  },
  {
   "cell_type": "markdown",
   "id": "ac36b32f-75d6-49a3-bec4-ba3fe1fe2892",
   "metadata": {},
   "source": [
    "If you want to share your Dockerized model with others, you can publish the Docker image to a registry such as Docker Hub or Amazon ECR. This will allow others to easily download and use your model.  Publishing a Docker image allows you to share your Dockerized model with others, making it easy for them to download and use it. Here are the steps to publish a Docker image:"
   ]
  },
  {
   "cell_type": "markdown",
   "id": "14d25b92-e15a-42eb-a058-3ab53809d73d",
   "metadata": {},
   "source": [
    "- **Create a Docker Hub account**: If you don't already have one, create a Docker Hub account at https://hub.docker.com/signup.\n",
    "- **Log in to Docker Hub**: Log in to Docker Hub using the docker login command in your terminal. You will need to enter your Docker Hub username and password.\n",
    "- **Tag your Docker image**: Before you can publish your Docker image, you need to tag it with your Docker Hub username and the name of the repository where you want to store the image. The format of the tag is username/repository:tag. For example, if your username is johnsmith and you want to store the image in a repository called my-model, you would use the following command: \n",
    "```\n",
    "docker tag my-model johnsmith/my-model:latest\n",
    "```\n",
    "- **Push the Docker image to Docker Hub**: Once your image is tagged, you can push it to Docker Hub using the `docker push` command. For example, to push the image you just tagged, you would use the following command: \n",
    "\n",
    "```\n",
    "docker push johnsmith/my-model:latest.\n",
    "```\n",
    "\n",
    "    This will upload the image to Docker Hub, making it publicly available for others to download.\n",
    "\n",
    "- **Verify the Docker image on Docker Hub**: After pushing the image, you can verify that it is available on Docker Hub by logging in to the Docker Hub website and navigating to your repository.\n"
   ]
  },
  {
   "cell_type": "markdown",
   "id": "237d9b14-c1c1-4751-968d-c832e6e9d1ab",
   "metadata": {},
   "source": [
    "Following these steps, you can publish your Dockerized model to Docker Hub and make it available for others to use. You can also publish the image to other container registries such as Amazon ECR or Google Container Registry using similar steps."
   ]
  },
  {
   "cell_type": "markdown",
   "id": "42ce2fa3-a676-40a2-a789-64991cb382f2",
   "metadata": {},
   "source": [
    "## Step 12: Integrate the Model into Your Application"
   ]
  },
  {
   "cell_type": "markdown",
   "id": "3dcbc2a1-fb52-473c-884d-3854beadfe9f",
   "metadata": {
    "tags": []
   },
   "source": [
    "Once you have a Dockerized model that is working correctly, you can integrate it into your application or workflow. This may involve making API requests to the model, or it may involve running the Docker container as a background process."
   ]
  },
  {
   "cell_type": "markdown",
   "id": "e3bca85d-9e25-4e00-b08d-2dce26bbc05b",
   "metadata": {},
   "source": [
    "## Step 13: Monitor the Model's Performance"
   ]
  },
  {
   "cell_type": "markdown",
   "id": "336d19c1-cff1-43fe-8e08-f5e973332f4e",
   "metadata": {},
   "source": [
    "Once the model is deployed, you should monitor its performance to ensure that it continues to perform as expected. This may involve monitoring metrics such as latency, throughput, and error rate. "
   ]
  },
  {
   "cell_type": "markdown",
   "id": "5a403895-4caa-40b3-9251-58fa8c4d7472",
   "metadata": {},
   "source": [
    "## Step 14: Update the Model"
   ]
  },
  {
   "cell_type": "markdown",
   "id": "861e685e-0b55-4177-819d-7e9a3fc509ef",
   "metadata": {},
   "source": [
    "Over time, you may need to update the model with new data or new features. When doing so, be sure to test the updated model thoroughly before deploying it."
   ]
  },
  {
   "cell_type": "markdown",
   "id": "c5014724-4127-4ae9-9e54-afd619dd547b",
   "metadata": {},
   "source": [
    "## Step 15: Scale the Model"
   ]
  },
  {
   "cell_type": "markdown",
   "id": "367141d3-1a35-425e-b8a9-8592d0d60404",
   "metadata": {
    "tags": []
   },
   "source": [
    "If the model is experiencing high traffic or processing large volumes of data, you may need to scale it horizontally by running multiple instances of the Docker container behind a load balancer."
   ]
  },
  {
   "cell_type": "code",
   "execution_count": null,
   "id": "54a007c8-940a-4181-b001-2b026c0e60a3",
   "metadata": {},
   "outputs": [],
   "source": []
  }
 ],
 "metadata": {
  "kernelspec": {
   "display_name": "Python 3 (ipykernel)",
   "language": "python",
   "name": "python3"
  },
  "language_info": {
   "codemirror_mode": {
    "name": "ipython",
    "version": 3
   },
   "file_extension": ".py",
   "mimetype": "text/x-python",
   "name": "python",
   "nbconvert_exporter": "python",
   "pygments_lexer": "ipython3",
   "version": "3.8.10"
  }
 },
 "nbformat": 4,
 "nbformat_minor": 5
}
