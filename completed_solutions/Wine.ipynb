{
 "cells": [
  {
   "cell_type": "markdown",
   "id": "c2dfbaf2-4672-42f0-9d7e-eb9444896c74",
   "metadata": {},
   "source": [
    "# Introduction"
   ]
  },
  {
   "cell_type": "markdown",
   "id": "1a2b8a7f-50ca-49d7-bcc7-248213028041",
   "metadata": {},
   "source": [
    "The Wine dataset from Scikit-learn is a classic and highly versatile dataset that has been used extensively in the field of data science for various classification and regression problems. It comprises of **178 samples of wine**, with **13 features each**, that correspond to the chemical properties of the wine, such as **alcohol content**, **acidity**, and **color intensity**. This rich dataset has been carefully curated and has the potential to unlock valuable insights into the complex relationships between these chemical properties and the type of wine. Whether you are a seasoned data scientist or just starting out, the Wine dataset is an excellent resource to sharpen your skills and explore the fascinating world of data analysis.\n",
    "\n",
    "In this tutorial, we will explore the Wine dataset and perform some basic data exploration."
   ]
  },
  {
   "cell_type": "markdown",
   "id": "dcd73eca-5ca4-47d7-843e-34b9b7f6d586",
   "metadata": {},
   "source": [
    "## Step 1: Load the Dataset"
   ]
  },
  {
   "cell_type": "markdown",
   "id": "301295e7-540c-4802-99fe-6d568e4b9373",
   "metadata": {},
   "source": [
    "The first step is to load the Wine dataset into our Python environment. We can use the Scikit-learn library to load the dataset. Here's the code to do this:"
   ]
  },
  {
   "cell_type": "code",
   "execution_count": 1,
   "id": "9ff33d6d-d1d5-44f9-be99-83a7410c93e4",
   "metadata": {
    "tags": []
   },
   "outputs": [],
   "source": [
    "from sklearn.datasets import load_wine\n",
    "\n",
    "data = load_wine()"
   ]
  },
  {
   "cell_type": "markdown",
   "id": "2bb8ab24-0350-42fa-8c0e-5e99f85f9ade",
   "metadata": {},
   "source": [
    "The `load_wine()` function returns a dictionary-like object containing the dataset's attributes and targets. The attributes are stored in the data key, while the targets are stored in the target key."
   ]
  },
  {
   "cell_type": "markdown",
   "id": "8889f444-2354-4c33-8646-eef587caf5bf",
   "metadata": {},
   "source": [
    "## Step 2: Explore the Dataset"
   ]
  },
  {
   "cell_type": "markdown",
   "id": "49a1e03c-edf1-4d08-af8a-dccd83392a20",
   "metadata": {},
   "source": [
    "Now that we have loaded the Wine dataset into our Python environment, let's explore the dataset's attributes and targets. We can use the following code to do this:"
   ]
  },
  {
   "cell_type": "code",
   "execution_count": 2,
   "id": "7cfb116a-415f-4826-919a-c9ec0bbd156a",
   "metadata": {
    "tags": []
   },
   "outputs": [
    {
     "name": "stdout",
     "output_type": "stream",
     "text": [
      ".. _wine_dataset:\n",
      "\n",
      "Wine recognition dataset\n",
      "------------------------\n",
      "\n",
      "**Data Set Characteristics:**\n",
      "\n",
      "    :Number of Instances: 178\n",
      "    :Number of Attributes: 13 numeric, predictive attributes and the class\n",
      "    :Attribute Information:\n",
      " \t\t- Alcohol\n",
      " \t\t- Malic acid\n",
      " \t\t- Ash\n",
      "\t\t- Alcalinity of ash  \n",
      " \t\t- Magnesium\n",
      "\t\t- Total phenols\n",
      " \t\t- Flavanoids\n",
      " \t\t- Nonflavanoid phenols\n",
      " \t\t- Proanthocyanins\n",
      "\t\t- Color intensity\n",
      " \t\t- Hue\n",
      " \t\t- OD280/OD315 of diluted wines\n",
      " \t\t- Proline\n",
      "\n",
      "    - class:\n",
      "            - class_0\n",
      "            - class_1\n",
      "            - class_2\n",
      "\t\t\n",
      "    :Summary Statistics:\n",
      "    \n",
      "    ============================= ==== ===== ======= =====\n",
      "                                   Min   Max   Mean     SD\n",
      "    ============================= ==== ===== ======= =====\n",
      "    Alcohol:                      11.0  14.8    13.0   0.8\n",
      "    Malic Acid:                   0.74  5.80    2.34  1.12\n",
      "    Ash:                          1.36  3.23    2.36  0.27\n",
      "    Alcalinity of Ash:            10.6  30.0    19.5   3.3\n",
      "    Magnesium:                    70.0 162.0    99.7  14.3\n",
      "    Total Phenols:                0.98  3.88    2.29  0.63\n",
      "    Flavanoids:                   0.34  5.08    2.03  1.00\n",
      "    Nonflavanoid Phenols:         0.13  0.66    0.36  0.12\n",
      "    Proanthocyanins:              0.41  3.58    1.59  0.57\n",
      "    Colour Intensity:              1.3  13.0     5.1   2.3\n",
      "    Hue:                          0.48  1.71    0.96  0.23\n",
      "    OD280/OD315 of diluted wines: 1.27  4.00    2.61  0.71\n",
      "    Proline:                       278  1680     746   315\n",
      "    ============================= ==== ===== ======= =====\n",
      "\n",
      "    :Missing Attribute Values: None\n",
      "    :Class Distribution: class_0 (59), class_1 (71), class_2 (48)\n",
      "    :Creator: R.A. Fisher\n",
      "    :Donor: Michael Marshall (MARSHALL%PLU@io.arc.nasa.gov)\n",
      "    :Date: July, 1988\n",
      "\n",
      "This is a copy of UCI ML Wine recognition datasets.\n",
      "https://archive.ics.uci.edu/ml/machine-learning-databases/wine/wine.data\n",
      "\n",
      "The data is the results of a chemical analysis of wines grown in the same\n",
      "region in Italy by three different cultivators. There are thirteen different\n",
      "measurements taken for different constituents found in the three types of\n",
      "wine.\n",
      "\n",
      "Original Owners: \n",
      "\n",
      "Forina, M. et al, PARVUS - \n",
      "An Extendible Package for Data Exploration, Classification and Correlation. \n",
      "Institute of Pharmaceutical and Food Analysis and Technologies,\n",
      "Via Brigata Salerno, 16147 Genoa, Italy.\n",
      "\n",
      "Citation:\n",
      "\n",
      "Lichman, M. (2013). UCI Machine Learning Repository\n",
      "[https://archive.ics.uci.edu/ml]. Irvine, CA: University of California,\n",
      "School of Information and Computer Science. \n",
      "\n",
      ".. topic:: References\n",
      "\n",
      "  (1) S. Aeberhard, D. Coomans and O. de Vel, \n",
      "  Comparison of Classifiers in High Dimensional Settings, \n",
      "  Tech. Rep. no. 92-02, (1992), Dept. of Computer Science and Dept. of  \n",
      "  Mathematics and Statistics, James Cook University of North Queensland. \n",
      "  (Also submitted to Technometrics). \n",
      "\n",
      "  The data was used with many others for comparing various \n",
      "  classifiers. The classes are separable, though only RDA \n",
      "  has achieved 100% correct classification. \n",
      "  (RDA : 100%, QDA 99.4%, LDA 98.9%, 1NN 96.1% (z-transformed data)) \n",
      "  (All results using the leave-one-out technique) \n",
      "\n",
      "  (2) S. Aeberhard, D. Coomans and O. de Vel, \n",
      "  \"THE CLASSIFICATION PERFORMANCE OF RDA\" \n",
      "  Tech. Rep. no. 92-01, (1992), Dept. of Computer Science and Dept. of \n",
      "  Mathematics and Statistics, James Cook University of North Queensland. \n",
      "  (Also submitted to Journal of Chemometrics).\n",
      "\n",
      "['alcohol', 'malic_acid', 'ash', 'alcalinity_of_ash', 'magnesium', 'total_phenols', 'flavanoids', 'nonflavanoid_phenols', 'proanthocyanins', 'color_intensity', 'hue', 'od280/od315_of_diluted_wines', 'proline']\n",
      "['class_0' 'class_1' 'class_2']\n"
     ]
    }
   ],
   "source": [
    "print(data.DESCR)\n",
    "print(data.feature_names)\n",
    "print(data.target_names)"
   ]
  },
  {
   "cell_type": "markdown",
   "id": "075f9ae1-8ad4-4d9c-95a2-de4f4cf8a03f",
   "metadata": {},
   "source": [
    "The **DESCR** attribute contains a description of the dataset, including its size, attributes, and target classes. The feature_names attribute contains the names of the attributes, while the target_names attribute contains the names of the target classes."
   ]
  },
  {
   "cell_type": "markdown",
   "id": "32f3cc6b-7b7f-44a7-a3e8-58e292beee3b",
   "metadata": {},
   "source": [
    "## Step 3: Convert the Dataset to a Pandas DataFrame"
   ]
  },
  {
   "cell_type": "markdown",
   "id": "b88d41fa-08da-408b-9b97-6165d6c9ea89",
   "metadata": {},
   "source": [
    "Next, let's convert the Wine dataset into a Pandas DataFrame. This will allow us to easily manipulate and explore the data using Pandas. Here's the code to do this:"
   ]
  },
  {
   "cell_type": "code",
   "execution_count": 3,
   "id": "dc3b589d-3496-4103-8a2c-df887612cf0b",
   "metadata": {
    "tags": []
   },
   "outputs": [],
   "source": [
    "import pandas as pd\n",
    "\n",
    "df = pd.DataFrame(data.data, columns=data.feature_names)\n",
    "df['target'] = data.target"
   ]
  },
  {
   "cell_type": "markdown",
   "id": "fbeed8ee-3696-4c82-847e-865217a549f3",
   "metadata": {},
   "source": [
    "The code above creates a new DataFrame object **df** from the attributes in the data key of the Wine dataset dictionary. We also add a new column to the DataFrame containing the targets."
   ]
  },
  {
   "cell_type": "markdown",
   "id": "2fd72c5f-7326-4e29-9077-eb1f352fad81",
   "metadata": {},
   "source": [
    "## Step 4: Explore the DataFrame"
   ]
  },
  {
   "cell_type": "markdown",
   "id": "031b2126-e310-4d0d-96a8-617d1c30cbc4",
   "metadata": {},
   "source": [
    "Now that we have the Wine dataset in a Pandas DataFrame, let's explore the data using Pandas. Here are some basic exploratory data analysis techniques we can use:"
   ]
  },
  {
   "cell_type": "markdown",
   "id": "dd826f26-22a2-4b2a-b924-b91e16034c92",
   "metadata": {},
   "source": [
    "### View the First Few Rows"
   ]
  },
  {
   "cell_type": "markdown",
   "id": "4eebff6f-31c9-45b0-9865-b83659b98b00",
   "metadata": {},
   "source": [
    "We can use the `head()` method to view the first few rows of the DataFrame:"
   ]
  },
  {
   "cell_type": "code",
   "execution_count": 4,
   "id": "aee12fe5-3a29-40f7-868d-67a1177ac8fc",
   "metadata": {
    "tags": []
   },
   "outputs": [
    {
     "data": {
      "text/html": [
       "<div>\n",
       "<style scoped>\n",
       "    .dataframe tbody tr th:only-of-type {\n",
       "        vertical-align: middle;\n",
       "    }\n",
       "\n",
       "    .dataframe tbody tr th {\n",
       "        vertical-align: top;\n",
       "    }\n",
       "\n",
       "    .dataframe thead th {\n",
       "        text-align: right;\n",
       "    }\n",
       "</style>\n",
       "<table border=\"1\" class=\"dataframe\">\n",
       "  <thead>\n",
       "    <tr style=\"text-align: right;\">\n",
       "      <th></th>\n",
       "      <th>alcohol</th>\n",
       "      <th>malic_acid</th>\n",
       "      <th>ash</th>\n",
       "      <th>alcalinity_of_ash</th>\n",
       "      <th>magnesium</th>\n",
       "      <th>total_phenols</th>\n",
       "      <th>flavanoids</th>\n",
       "      <th>nonflavanoid_phenols</th>\n",
       "      <th>proanthocyanins</th>\n",
       "      <th>color_intensity</th>\n",
       "      <th>hue</th>\n",
       "      <th>od280/od315_of_diluted_wines</th>\n",
       "      <th>proline</th>\n",
       "      <th>target</th>\n",
       "    </tr>\n",
       "  </thead>\n",
       "  <tbody>\n",
       "    <tr>\n",
       "      <th>0</th>\n",
       "      <td>14.23</td>\n",
       "      <td>1.71</td>\n",
       "      <td>2.43</td>\n",
       "      <td>15.6</td>\n",
       "      <td>127.0</td>\n",
       "      <td>2.80</td>\n",
       "      <td>3.06</td>\n",
       "      <td>0.28</td>\n",
       "      <td>2.29</td>\n",
       "      <td>5.64</td>\n",
       "      <td>1.04</td>\n",
       "      <td>3.92</td>\n",
       "      <td>1065.0</td>\n",
       "      <td>0</td>\n",
       "    </tr>\n",
       "    <tr>\n",
       "      <th>1</th>\n",
       "      <td>13.20</td>\n",
       "      <td>1.78</td>\n",
       "      <td>2.14</td>\n",
       "      <td>11.2</td>\n",
       "      <td>100.0</td>\n",
       "      <td>2.65</td>\n",
       "      <td>2.76</td>\n",
       "      <td>0.26</td>\n",
       "      <td>1.28</td>\n",
       "      <td>4.38</td>\n",
       "      <td>1.05</td>\n",
       "      <td>3.40</td>\n",
       "      <td>1050.0</td>\n",
       "      <td>0</td>\n",
       "    </tr>\n",
       "    <tr>\n",
       "      <th>2</th>\n",
       "      <td>13.16</td>\n",
       "      <td>2.36</td>\n",
       "      <td>2.67</td>\n",
       "      <td>18.6</td>\n",
       "      <td>101.0</td>\n",
       "      <td>2.80</td>\n",
       "      <td>3.24</td>\n",
       "      <td>0.30</td>\n",
       "      <td>2.81</td>\n",
       "      <td>5.68</td>\n",
       "      <td>1.03</td>\n",
       "      <td>3.17</td>\n",
       "      <td>1185.0</td>\n",
       "      <td>0</td>\n",
       "    </tr>\n",
       "    <tr>\n",
       "      <th>3</th>\n",
       "      <td>14.37</td>\n",
       "      <td>1.95</td>\n",
       "      <td>2.50</td>\n",
       "      <td>16.8</td>\n",
       "      <td>113.0</td>\n",
       "      <td>3.85</td>\n",
       "      <td>3.49</td>\n",
       "      <td>0.24</td>\n",
       "      <td>2.18</td>\n",
       "      <td>7.80</td>\n",
       "      <td>0.86</td>\n",
       "      <td>3.45</td>\n",
       "      <td>1480.0</td>\n",
       "      <td>0</td>\n",
       "    </tr>\n",
       "    <tr>\n",
       "      <th>4</th>\n",
       "      <td>13.24</td>\n",
       "      <td>2.59</td>\n",
       "      <td>2.87</td>\n",
       "      <td>21.0</td>\n",
       "      <td>118.0</td>\n",
       "      <td>2.80</td>\n",
       "      <td>2.69</td>\n",
       "      <td>0.39</td>\n",
       "      <td>1.82</td>\n",
       "      <td>4.32</td>\n",
       "      <td>1.04</td>\n",
       "      <td>2.93</td>\n",
       "      <td>735.0</td>\n",
       "      <td>0</td>\n",
       "    </tr>\n",
       "  </tbody>\n",
       "</table>\n",
       "</div>"
      ],
      "text/plain": [
       "   alcohol  malic_acid   ash  alcalinity_of_ash  magnesium  total_phenols  \\\n",
       "0    14.23        1.71  2.43               15.6      127.0           2.80   \n",
       "1    13.20        1.78  2.14               11.2      100.0           2.65   \n",
       "2    13.16        2.36  2.67               18.6      101.0           2.80   \n",
       "3    14.37        1.95  2.50               16.8      113.0           3.85   \n",
       "4    13.24        2.59  2.87               21.0      118.0           2.80   \n",
       "\n",
       "   flavanoids  nonflavanoid_phenols  proanthocyanins  color_intensity   hue  \\\n",
       "0        3.06                  0.28             2.29             5.64  1.04   \n",
       "1        2.76                  0.26             1.28             4.38  1.05   \n",
       "2        3.24                  0.30             2.81             5.68  1.03   \n",
       "3        3.49                  0.24             2.18             7.80  0.86   \n",
       "4        2.69                  0.39             1.82             4.32  1.04   \n",
       "\n",
       "   od280/od315_of_diluted_wines  proline  target  \n",
       "0                          3.92   1065.0       0  \n",
       "1                          3.40   1050.0       0  \n",
       "2                          3.17   1185.0       0  \n",
       "3                          3.45   1480.0       0  \n",
       "4                          2.93    735.0       0  "
      ]
     },
     "execution_count": 4,
     "metadata": {},
     "output_type": "execute_result"
    }
   ],
   "source": [
    "df.head()"
   ]
  },
  {
   "cell_type": "markdown",
   "id": "b016b2dd-dab5-475c-966a-24ee57315b36",
   "metadata": {},
   "source": [
    "This will display the first 5 rows of the DataFrame."
   ]
  },
  {
   "cell_type": "markdown",
   "id": "dd504131-f781-446e-84f8-95c7aba41141",
   "metadata": {},
   "source": [
    "### View the Data Types of Each Column"
   ]
  },
  {
   "cell_type": "markdown",
   "id": "1cb9669d-f531-4407-a0a8-b39d524b334f",
   "metadata": {},
   "source": [
    "We can use the **dtypes** attribute to view the data types of each column:"
   ]
  },
  {
   "cell_type": "code",
   "execution_count": 5,
   "id": "18bf4a9b-2aa0-4597-a0d2-d7483f795477",
   "metadata": {
    "tags": []
   },
   "outputs": [
    {
     "data": {
      "text/plain": [
       "alcohol                         float64\n",
       "malic_acid                      float64\n",
       "ash                             float64\n",
       "alcalinity_of_ash               float64\n",
       "magnesium                       float64\n",
       "total_phenols                   float64\n",
       "flavanoids                      float64\n",
       "nonflavanoid_phenols            float64\n",
       "proanthocyanins                 float64\n",
       "color_intensity                 float64\n",
       "hue                             float64\n",
       "od280/od315_of_diluted_wines    float64\n",
       "proline                         float64\n",
       "target                            int64\n",
       "dtype: object"
      ]
     },
     "execution_count": 5,
     "metadata": {},
     "output_type": "execute_result"
    }
   ],
   "source": [
    "df.dtypes"
   ]
  },
  {
   "cell_type": "markdown",
   "id": "a05cad26-f12c-4df0-b4ec-7e60a88f658c",
   "metadata": {},
   "source": [
    "This will display the data types of each column in the DataFrame. As you can see that, most attributes are in float64 type. Except, `target`."
   ]
  },
  {
   "cell_type": "markdown",
   "id": "10542238-0b48-4156-bf64-d7167ac7872f",
   "metadata": {},
   "source": [
    "### View Summary Statistics"
   ]
  },
  {
   "cell_type": "markdown",
   "id": "f1bee1a6-b370-4254-8ace-9a16872a0efc",
   "metadata": {},
   "source": [
    "We can use the `describe()` method to view summary statistics of the DataFrame:"
   ]
  },
  {
   "cell_type": "code",
   "execution_count": 6,
   "id": "37115d3e-4552-447d-b6d1-383c914aa55f",
   "metadata": {
    "tags": []
   },
   "outputs": [
    {
     "data": {
      "text/html": [
       "<div>\n",
       "<style scoped>\n",
       "    .dataframe tbody tr th:only-of-type {\n",
       "        vertical-align: middle;\n",
       "    }\n",
       "\n",
       "    .dataframe tbody tr th {\n",
       "        vertical-align: top;\n",
       "    }\n",
       "\n",
       "    .dataframe thead th {\n",
       "        text-align: right;\n",
       "    }\n",
       "</style>\n",
       "<table border=\"1\" class=\"dataframe\">\n",
       "  <thead>\n",
       "    <tr style=\"text-align: right;\">\n",
       "      <th></th>\n",
       "      <th>alcohol</th>\n",
       "      <th>malic_acid</th>\n",
       "      <th>ash</th>\n",
       "      <th>alcalinity_of_ash</th>\n",
       "      <th>magnesium</th>\n",
       "      <th>total_phenols</th>\n",
       "      <th>flavanoids</th>\n",
       "      <th>nonflavanoid_phenols</th>\n",
       "      <th>proanthocyanins</th>\n",
       "      <th>color_intensity</th>\n",
       "      <th>hue</th>\n",
       "      <th>od280/od315_of_diluted_wines</th>\n",
       "      <th>proline</th>\n",
       "      <th>target</th>\n",
       "    </tr>\n",
       "  </thead>\n",
       "  <tbody>\n",
       "    <tr>\n",
       "      <th>count</th>\n",
       "      <td>178.000000</td>\n",
       "      <td>178.000000</td>\n",
       "      <td>178.000000</td>\n",
       "      <td>178.000000</td>\n",
       "      <td>178.000000</td>\n",
       "      <td>178.000000</td>\n",
       "      <td>178.000000</td>\n",
       "      <td>178.000000</td>\n",
       "      <td>178.000000</td>\n",
       "      <td>178.000000</td>\n",
       "      <td>178.000000</td>\n",
       "      <td>178.000000</td>\n",
       "      <td>178.000000</td>\n",
       "      <td>178.000000</td>\n",
       "    </tr>\n",
       "    <tr>\n",
       "      <th>mean</th>\n",
       "      <td>13.000618</td>\n",
       "      <td>2.336348</td>\n",
       "      <td>2.366517</td>\n",
       "      <td>19.494944</td>\n",
       "      <td>99.741573</td>\n",
       "      <td>2.295112</td>\n",
       "      <td>2.029270</td>\n",
       "      <td>0.361854</td>\n",
       "      <td>1.590899</td>\n",
       "      <td>5.058090</td>\n",
       "      <td>0.957449</td>\n",
       "      <td>2.611685</td>\n",
       "      <td>746.893258</td>\n",
       "      <td>0.938202</td>\n",
       "    </tr>\n",
       "    <tr>\n",
       "      <th>std</th>\n",
       "      <td>0.811827</td>\n",
       "      <td>1.117146</td>\n",
       "      <td>0.274344</td>\n",
       "      <td>3.339564</td>\n",
       "      <td>14.282484</td>\n",
       "      <td>0.625851</td>\n",
       "      <td>0.998859</td>\n",
       "      <td>0.124453</td>\n",
       "      <td>0.572359</td>\n",
       "      <td>2.318286</td>\n",
       "      <td>0.228572</td>\n",
       "      <td>0.709990</td>\n",
       "      <td>314.907474</td>\n",
       "      <td>0.775035</td>\n",
       "    </tr>\n",
       "    <tr>\n",
       "      <th>min</th>\n",
       "      <td>11.030000</td>\n",
       "      <td>0.740000</td>\n",
       "      <td>1.360000</td>\n",
       "      <td>10.600000</td>\n",
       "      <td>70.000000</td>\n",
       "      <td>0.980000</td>\n",
       "      <td>0.340000</td>\n",
       "      <td>0.130000</td>\n",
       "      <td>0.410000</td>\n",
       "      <td>1.280000</td>\n",
       "      <td>0.480000</td>\n",
       "      <td>1.270000</td>\n",
       "      <td>278.000000</td>\n",
       "      <td>0.000000</td>\n",
       "    </tr>\n",
       "    <tr>\n",
       "      <th>25%</th>\n",
       "      <td>12.362500</td>\n",
       "      <td>1.602500</td>\n",
       "      <td>2.210000</td>\n",
       "      <td>17.200000</td>\n",
       "      <td>88.000000</td>\n",
       "      <td>1.742500</td>\n",
       "      <td>1.205000</td>\n",
       "      <td>0.270000</td>\n",
       "      <td>1.250000</td>\n",
       "      <td>3.220000</td>\n",
       "      <td>0.782500</td>\n",
       "      <td>1.937500</td>\n",
       "      <td>500.500000</td>\n",
       "      <td>0.000000</td>\n",
       "    </tr>\n",
       "    <tr>\n",
       "      <th>50%</th>\n",
       "      <td>13.050000</td>\n",
       "      <td>1.865000</td>\n",
       "      <td>2.360000</td>\n",
       "      <td>19.500000</td>\n",
       "      <td>98.000000</td>\n",
       "      <td>2.355000</td>\n",
       "      <td>2.135000</td>\n",
       "      <td>0.340000</td>\n",
       "      <td>1.555000</td>\n",
       "      <td>4.690000</td>\n",
       "      <td>0.965000</td>\n",
       "      <td>2.780000</td>\n",
       "      <td>673.500000</td>\n",
       "      <td>1.000000</td>\n",
       "    </tr>\n",
       "    <tr>\n",
       "      <th>75%</th>\n",
       "      <td>13.677500</td>\n",
       "      <td>3.082500</td>\n",
       "      <td>2.557500</td>\n",
       "      <td>21.500000</td>\n",
       "      <td>107.000000</td>\n",
       "      <td>2.800000</td>\n",
       "      <td>2.875000</td>\n",
       "      <td>0.437500</td>\n",
       "      <td>1.950000</td>\n",
       "      <td>6.200000</td>\n",
       "      <td>1.120000</td>\n",
       "      <td>3.170000</td>\n",
       "      <td>985.000000</td>\n",
       "      <td>2.000000</td>\n",
       "    </tr>\n",
       "    <tr>\n",
       "      <th>max</th>\n",
       "      <td>14.830000</td>\n",
       "      <td>5.800000</td>\n",
       "      <td>3.230000</td>\n",
       "      <td>30.000000</td>\n",
       "      <td>162.000000</td>\n",
       "      <td>3.880000</td>\n",
       "      <td>5.080000</td>\n",
       "      <td>0.660000</td>\n",
       "      <td>3.580000</td>\n",
       "      <td>13.000000</td>\n",
       "      <td>1.710000</td>\n",
       "      <td>4.000000</td>\n",
       "      <td>1680.000000</td>\n",
       "      <td>2.000000</td>\n",
       "    </tr>\n",
       "  </tbody>\n",
       "</table>\n",
       "</div>"
      ],
      "text/plain": [
       "          alcohol  malic_acid         ash  alcalinity_of_ash   magnesium  \\\n",
       "count  178.000000  178.000000  178.000000         178.000000  178.000000   \n",
       "mean    13.000618    2.336348    2.366517          19.494944   99.741573   \n",
       "std      0.811827    1.117146    0.274344           3.339564   14.282484   \n",
       "min     11.030000    0.740000    1.360000          10.600000   70.000000   \n",
       "25%     12.362500    1.602500    2.210000          17.200000   88.000000   \n",
       "50%     13.050000    1.865000    2.360000          19.500000   98.000000   \n",
       "75%     13.677500    3.082500    2.557500          21.500000  107.000000   \n",
       "max     14.830000    5.800000    3.230000          30.000000  162.000000   \n",
       "\n",
       "       total_phenols  flavanoids  nonflavanoid_phenols  proanthocyanins  \\\n",
       "count     178.000000  178.000000            178.000000       178.000000   \n",
       "mean        2.295112    2.029270              0.361854         1.590899   \n",
       "std         0.625851    0.998859              0.124453         0.572359   \n",
       "min         0.980000    0.340000              0.130000         0.410000   \n",
       "25%         1.742500    1.205000              0.270000         1.250000   \n",
       "50%         2.355000    2.135000              0.340000         1.555000   \n",
       "75%         2.800000    2.875000              0.437500         1.950000   \n",
       "max         3.880000    5.080000              0.660000         3.580000   \n",
       "\n",
       "       color_intensity         hue  od280/od315_of_diluted_wines      proline  \\\n",
       "count       178.000000  178.000000                    178.000000   178.000000   \n",
       "mean          5.058090    0.957449                      2.611685   746.893258   \n",
       "std           2.318286    0.228572                      0.709990   314.907474   \n",
       "min           1.280000    0.480000                      1.270000   278.000000   \n",
       "25%           3.220000    0.782500                      1.937500   500.500000   \n",
       "50%           4.690000    0.965000                      2.780000   673.500000   \n",
       "75%           6.200000    1.120000                      3.170000   985.000000   \n",
       "max          13.000000    1.710000                      4.000000  1680.000000   \n",
       "\n",
       "           target  \n",
       "count  178.000000  \n",
       "mean     0.938202  \n",
       "std      0.775035  \n",
       "min      0.000000  \n",
       "25%      0.000000  \n",
       "50%      1.000000  \n",
       "75%      2.000000  \n",
       "max      2.000000  "
      ]
     },
     "execution_count": 6,
     "metadata": {},
     "output_type": "execute_result"
    }
   ],
   "source": [
    "df.describe()"
   ]
  },
  {
   "cell_type": "markdown",
   "id": "2390357d-7b44-4d90-9853-94d5fe136b2a",
   "metadata": {},
   "source": [
    "This will display the count, mean, standard deviation, minimum, 25th percentile, 50th percentile (median), 75th percentile, and maximum values for each column."
   ]
  },
  {
   "cell_type": "markdown",
   "id": "b122b4af-b586-4015-a2aa-5ac29bf28806",
   "metadata": {},
   "source": [
    "### View the Unique Values in Each Column"
   ]
  },
  {
   "cell_type": "markdown",
   "id": "0171bae5-2092-4f25-896d-1d412df93b41",
   "metadata": {},
   "source": [
    "We can use the `unique()` method to view the unique values in each column:"
   ]
  },
  {
   "cell_type": "code",
   "execution_count": 7,
   "id": "490fa8d0-fe79-4123-becb-04adecc2536d",
   "metadata": {
    "tags": []
   },
   "outputs": [
    {
     "data": {
      "text/plain": [
       "array([0, 1, 2])"
      ]
     },
     "execution_count": 7,
     "metadata": {},
     "output_type": "execute_result"
    }
   ],
   "source": [
    "df['target'].unique()"
   ]
  },
  {
   "cell_type": "markdown",
   "id": "a12cbf98-00e0-4693-87c3-6bae53eeb89a",
   "metadata": {},
   "source": [
    "This will display the unique values in the target column. There are 3 distinct values."
   ]
  },
  {
   "cell_type": "markdown",
   "id": "681dba0f-66f2-4db9-9291-bf91f93f2e44",
   "metadata": {},
   "source": [
    "### View the Count of Each Unique Value in a Column"
   ]
  },
  {
   "cell_type": "markdown",
   "id": "73c235dd-c6f0-405f-80b7-2bdfd872594d",
   "metadata": {},
   "source": [
    "We can use the `value_counts()` method to view the count of each unique value in a column:"
   ]
  },
  {
   "cell_type": "code",
   "execution_count": 8,
   "id": "84b644ac-b38d-4748-a9c5-87200cdae6eb",
   "metadata": {
    "tags": []
   },
   "outputs": [
    {
     "data": {
      "text/plain": [
       "1    71\n",
       "0    59\n",
       "2    48\n",
       "Name: target, dtype: int64"
      ]
     },
     "execution_count": 8,
     "metadata": {},
     "output_type": "execute_result"
    }
   ],
   "source": [
    "df['target'].value_counts()"
   ]
  },
  {
   "cell_type": "markdown",
   "id": "078ae4c5-ece7-4afd-9aae-6a43678c7e6e",
   "metadata": {},
   "source": [
    "### Visualize the Data"
   ]
  },
  {
   "cell_type": "markdown",
   "id": "757ad007-2cec-46b7-9437-ec0819d9433b",
   "metadata": {},
   "source": [
    "We can use data visualization techniques to visualize the data in the Wine dataset to know the **distribution of features**."
   ]
  },
  {
   "cell_type": "markdown",
   "id": "4f0cf9cc-7b38-439e-b228-966611edbc55",
   "metadata": {},
   "source": [
    "**Histogram**: We can use histograms and density plots to visualize the distribution of features in the Wine dataset. For example, we can use the seaborn library in Python to create a histogram of the **alcohol** feature:"
   ]
  },
  {
   "cell_type": "code",
   "execution_count": 9,
   "id": "25efaece-0218-47fc-9b44-c88fc24fd8b3",
   "metadata": {
    "tags": []
   },
   "outputs": [
    {
     "data": {
      "text/plain": [
       "Text(0.5, 1.0, 'Histogram of Alcohol feature')"
      ]
     },
     "execution_count": 9,
     "metadata": {},
     "output_type": "execute_result"
    },
    {
     "data": {
      "image/png": "[encoded data removed]",
      "text/plain": [
       "<Figure size 640x480 with 1 Axes>"
      ]
     },
     "metadata": {},
     "output_type": "display_data"
    }
   ],
   "source": [
    "import seaborn as sns\n",
    "import matplotlib.pyplot as plt\n",
    "\n",
    "sns.histplot(data=df, x=\"alcohol\", bins=20)\n",
    "plt.title('Histogram of Alcohol feature')"
   ]
  },
  {
   "cell_type": "markdown",
   "id": "20597b4e-2e07-4202-84b5-f6327f21dbab",
   "metadata": {},
   "source": [
    "This code will create a histogram of the **alcohol** feature with 20 bins. Almost alcohol's values are mainly focused on the range of 11.5 to 14.5."
   ]
  },
  {
   "cell_type": "markdown",
   "id": "cf789152-b224-4d7f-be23-7909bd9a390a",
   "metadata": {},
   "source": [
    "**Density plot**: Similarly, we can use the seaborn library to create a density plot of the **alcohol** feature:"
   ]
  },
  {
   "cell_type": "code",
   "execution_count": 10,
   "id": "8aa34849-78c5-4d6e-9bba-44fea69bbfa0",
   "metadata": {
    "tags": []
   },
   "outputs": [
    {
     "data": {
      "text/plain": [
       "Text(0.5, 1.0, 'Density plot of Alcohol feature')"
      ]
     },
     "execution_count": 10,
     "metadata": {},
     "output_type": "execute_result"
    },
    {
     "data": {
      "image/png": "[encoded data removed]",
      "text/plain": [
       "<Figure size 640x480 with 1 Axes>"
      ]
     },
     "metadata": {},
     "output_type": "display_data"
    }
   ],
   "source": [
    "sns.kdeplot(data=df, x=\"alcohol\")\n",
    "plt.title('Density plot of Alcohol feature')"
   ]
  },
  {
   "cell_type": "markdown",
   "id": "a57cbd93-7b7a-4199-af67-308eafa7a942",
   "metadata": {},
   "source": [
    "We can also use these visualization techniques to explore the distribution of other features in the Wine dataset."
   ]
  },
  {
   "cell_type": "markdown",
   "id": "7f9aaee9-501e-4bc6-8666-068be7db1a44",
   "metadata": {},
   "source": [
    "### Correlation Between Features"
   ]
  },
  {
   "cell_type": "markdown",
   "id": "f9c21b21-f952-4f24-940b-98eee8848ebe",
   "metadata": {},
   "source": [
    "We can use correlation matrices and heatmaps to visualize the correlation between features in the Wine dataset. For example, we can use the `Seaborn` library to create a correlation matrix of the Wine dataset:"
   ]
  },
  {
   "cell_type": "code",
   "execution_count": 11,
   "id": "5e06e71c-b4af-43cf-baf0-f4e8dab3d8a5",
   "metadata": {
    "tags": []
   },
   "outputs": [
    {
     "data": {
      "text/plain": [
       "Text(0.5, 1.0, 'Correlation matrix of all features')"
      ]
     },
     "execution_count": 11,
     "metadata": {},
     "output_type": "execute_result"
    },
    {
     "data": {
      "image/png": "[encoded data removed]",
      "text/plain": [
       "<Figure size 640x480 with 2 Axes>"
      ]
     },
     "metadata": {},
     "output_type": "display_data"
    }
   ],
   "source": [
    "corr_matrix = df.corr()\n",
    "sns.heatmap(corr_matrix, annot_kws={'size':20})\n",
    "plt.title('Correlation matrix of all features')"
   ]
  },
  {
   "cell_type": "markdown",
   "id": "1dff5c83-f143-4168-8aba-fefc4d316cdb",
   "metadata": {},
   "source": [
    "This code will create a correlation matrix of the Wine dataset with annotations. We can also use the `Seaborn` library to create a heatmap of the correlation matrix:"
   ]
  },
  {
   "cell_type": "code",
   "execution_count": 12,
   "id": "357acac4-4f9f-47d3-bcc6-423a0ecf65c4",
   "metadata": {
    "tags": []
   },
   "outputs": [
    {
     "data": {
      "text/plain": [
       "Text(0.5, 1.0, 'Correlation matrix of all features with coolwarm')"
      ]
     },
     "execution_count": 12,
     "metadata": {},
     "output_type": "execute_result"
    },
    {
     "data": {
      "image/png": "[encoded data removed]",
      "text/plain": [
       "<Figure size 640x480 with 2 Axes>"
      ]
     },
     "metadata": {},
     "output_type": "display_data"
    }
   ],
   "source": [
    "sns.heatmap(corr_matrix, cmap=\"coolwarm\", annot_kws={'size':20})\n",
    "plt.title('Correlation matrix of all features with coolwarm')"
   ]
  },
  {
   "cell_type": "markdown",
   "id": "3c7e8eeb-c770-4773-889e-1facb8e79b4a",
   "metadata": {},
   "source": [
    "This code will create a heatmap of the correlation matrix of the Wine dataset with a coolwarm color map. \n",
    "\n",
    "**Note that**: These visualization techniques can help you understand the relationships between the features in the Wine dataset. As you know, Correlation is a term that refers to the strength of a relationship between two variables where a strong or high, Correlation means that two or more variables have a strong relationship. In contrast, a weak or low correlation means the variables are hardly related."
   ]
  },
  {
   "cell_type": "markdown",
   "id": "e84f4f53-e590-45a5-8461-41a0d4fb6d9b",
   "metadata": {},
   "source": [
    "## Step 5: Preprocessing the Data"
   ]
  },
  {
   "cell_type": "markdown",
   "id": "99ea2743-f16d-48c2-9779-5b7855399d7d",
   "metadata": {},
   "source": [
    "Before we can build machine learning models on the Wine dataset, we need to preprocess the data. This involves scaling the features, splitting the data into training and testing sets, and encoding the target variable."
   ]
  },
  {
   "cell_type": "markdown",
   "id": "879a23bb-359c-48aa-b7f7-e465ce9bf989",
   "metadata": {},
   "source": [
    "### Splitting the Data"
   ]
  },
  {
   "cell_type": "markdown",
   "id": "791961c8-7583-422d-80a4-a9c28fb29055",
   "metadata": {},
   "source": [
    "We need to split the Wine dataset into training and testing sets before building machine learning models. This is because we want to evaluate the performance of the machine learning models on unseen data.\n",
    "\n",
    "We can use the `train_test_split()` function from the `Scikit-learn` library to split the Wine dataset into training and testing sets:"
   ]
  },
  {
   "cell_type": "code",
   "execution_count": 14,
   "id": "340b90b6-9767-4e81-b8b7-45109f1904b8",
   "metadata": {
    "tags": []
   },
   "outputs": [],
   "source": [
    "from sklearn.model_selection import train_test_split\n",
    "\n",
    "X = df.drop('target', axis=1)\n",
    "y = df['target']\n",
    "X_train, X_test, y_train, y_test = train_test_split(X, y, test_size=0.2, random_state=42)"
   ]
  },
  {
   "cell_type": "markdown",
   "id": "0c123b7c-6522-4f7c-8ec6-bd7ccc389db0",
   "metadata": {},
   "source": [
    "In this code, we imported the `train_test_split()` function from the sklearn.model_selection module. We then used the function to split the dataset into training and testing sets. The **test_size** argument specifies the proportion of the data to use for testing, which in this case is set to 20% of the data. The **random_state** argument is used to ensure reproducibility of the results.\n",
    "\n",
    "After splitting the data, we can check the shape of the training and testing sets as follows:"
   ]
  },
  {
   "cell_type": "code",
   "execution_count": 15,
   "id": "2c077bb9-02ee-4a4a-a2a1-115a0de27bce",
   "metadata": {
    "tags": []
   },
   "outputs": [
    {
     "name": "stdout",
     "output_type": "stream",
     "text": [
      "X_train shape: (142, 13)\n",
      "y_train shape: (142,)\n",
      "X_test shape: (36, 13)\n",
      "y_test shape: (36,)\n"
     ]
    }
   ],
   "source": [
    "print(\"X_train shape:\", X_train.shape)\n",
    "print(\"y_train shape:\", y_train.shape)\n",
    "print(\"X_test shape:\", X_test.shape)\n",
    "print(\"y_test shape:\", y_test.shape)"
   ]
  },
  {
   "cell_type": "markdown",
   "id": "e489088a-4b6f-4cfa-8c26-a27aeabda6dd",
   "metadata": {},
   "source": [
    "Here, we can see that the training set contains 142 samples with 13 features, while the testing set contains 36 samples with 13 features."
   ]
  },
  {
   "cell_type": "markdown",
   "id": "e7b9aa10-a5d3-4f9f-9b8f-82e16c2ab44e",
   "metadata": {},
   "source": [
    "### Scaling the Data"
   ]
  },
  {
   "cell_type": "markdown",
   "id": "547beef9-3437-4f9d-928f-69e04a025ef9",
   "metadata": {},
   "source": [
    "Before we can train our machine learning model, we need to scale the data to ensure that all features are on the same scale. We can use the **StandardScaler** class from the **sklearn.preprocessing** module to scale the data. Here's how:"
   ]
  },
  {
   "cell_type": "code",
   "execution_count": 16,
   "id": "0f61afa8-75bb-4d32-aa5c-fea548d924af",
   "metadata": {
    "tags": []
   },
   "outputs": [],
   "source": [
    "from sklearn.preprocessing import StandardScaler\n",
    "scaler = StandardScaler()\n",
    "X_train_scaled = scaler.fit_transform(X_train)\n",
    "X_test_scaled = scaler.transform(X_test)"
   ]
  },
  {
   "cell_type": "markdown",
   "id": "c3e30e6e-4068-4483-b646-808afe00aaac",
   "metadata": {},
   "source": [
    "In this code, we first imported the StandardScaler class from the sklearn.preprocessing module. We then created an instance of the class and fit it to the training set using the `fit_transform()` method. This method computes the mean and standard deviation of each feature in the training set and scales the data accordingly. We then use the `transform()` method to scale the testing set using the same mean and standard deviation values.\n",
    "\n",
    "After scaling the data, we can check the mean and standard deviation of the features in the training set as follows:"
   ]
  },
  {
   "cell_type": "code",
   "execution_count": 17,
   "id": "1129b945-5bae-4384-bc66-9a3335b40e87",
   "metadata": {
    "tags": []
   },
   "outputs": [
    {
     "name": "stdout",
     "output_type": "stream",
     "text": [
      "Mean of X_train_scaled: [ 8.30321727e-15 -5.73387191e-16  4.72196617e-15  1.22359087e-16\n",
      " -3.69813726e-16  1.83343169e-16  9.90795865e-16 -1.01268759e-15\n",
      "  3.63558948e-16  3.19775505e-16  1.24626444e-15  1.76697467e-16\n",
      " -1.56369440e-18]\n",
      "Standard deviation of X_train_scaled: [1. 1. 1. 1. 1. 1. 1. 1. 1. 1. 1. 1. 1.]\n"
     ]
    }
   ],
   "source": [
    "import numpy as np\n",
    "\n",
    "print(\"Mean of X_train_scaled:\", np.mean(X_train_scaled, axis=0))\n",
    "print(\"Standard deviation of X_train_scaled:\", np.std(X_train_scaled, axis=0))"
   ]
  },
  {
   "cell_type": "markdown",
   "id": "39fb1ba2-d70a-4828-a109-f0532adfa3c5",
   "metadata": {},
   "source": [
    "Here, we can see that the mean of each feature in the training set is very close to zero, and the standard deviation is 1, which indicates that the data has been standardized."
   ]
  },
  {
   "cell_type": "markdown",
   "id": "75373ef8-008c-44bd-95b6-fa4c18bea94f",
   "metadata": {},
   "source": [
    "## Step 6: Building, Evaluating and Tuning Model"
   ]
  },
  {
   "cell_type": "markdown",
   "id": "884de199-2d72-4ba1-a277-ac1aa3057851",
   "metadata": {},
   "source": [
    "We will try some Classification models with Hyperparameter tuning, such as GridSearch."
   ]
  },
  {
   "cell_type": "markdown",
   "id": "a71dae0b-8991-41e8-b5b2-988474147b2a",
   "metadata": {},
   "source": [
    "### Decision Tree Classifier"
   ]
  },
  {
   "cell_type": "markdown",
   "id": "9ef7f2a2-2435-40a5-b1da-aadbfdf9ae9e",
   "metadata": {},
   "source": [
    "We can now build our machine learning model using the training data. In this example, we will use a simple decision tree classifier. We will also use the default hyperparameters for the decision tree classifier. Here's the code to build the model:"
   ]
  },
  {
   "cell_type": "code",
   "execution_count": 18,
   "id": "a3e4ae2c-8dd2-4d12-a748-9541d9b6fd77",
   "metadata": {
    "tags": []
   },
   "outputs": [
    {
     "data": {
      "text/html": [
       "<style>#sk-container-id-1 {color: black;background-color: white;}#sk-container-id-1 pre{padding: 0;}#sk-container-id-1 div.sk-toggleable {background-color: white;}#sk-container-id-1 label.sk-toggleable__label {cursor: pointer;display: block;width: 100%;margin-bottom: 0;padding: 0.3em;box-sizing: border-box;text-align: center;}#sk-container-id-1 label.sk-toggleable__label-arrow:before {content: \"▸\";float: left;margin-right: 0.25em;color: #696969;}#sk-container-id-1 label.sk-toggleable__label-arrow:hover:before {color: black;}#sk-container-id-1 div.sk-estimator:hover label.sk-toggleable__label-arrow:before {color: black;}#sk-container-id-1 div.sk-toggleable__content {max-height: 0;max-width: 0;overflow: hidden;text-align: left;background-color: #f0f8ff;}#sk-container-id-1 div.sk-toggleable__content pre {margin: 0.2em;color: black;border-radius: 0.25em;background-color: #f0f8ff;}#sk-container-id-1 input.sk-toggleable__control:checked~div.sk-toggleable__content {max-height: 200px;max-width: 100%;overflow: auto;}#sk-container-id-1 input.sk-toggleable__control:checked~label.sk-toggleable__label-arrow:before {content: \"▾\";}#sk-container-id-1 div.sk-estimator input.sk-toggleable__control:checked~label.sk-toggleable__label {background-color: #d4ebff;}#sk-container-id-1 div.sk-label input.sk-toggleable__control:checked~label.sk-toggleable__label {background-color: #d4ebff;}#sk-container-id-1 input.sk-hidden--visually {border: 0;clip: rect(1px 1px 1px 1px);clip: rect(1px, 1px, 1px, 1px);height: 1px;margin: -1px;overflow: hidden;padding: 0;position: absolute;width: 1px;}#sk-container-id-1 div.sk-estimator {font-family: monospace;background-color: #f0f8ff;border: 1px dotted black;border-radius: 0.25em;box-sizing: border-box;margin-bottom: 0.5em;}#sk-container-id-1 div.sk-estimator:hover {background-color: #d4ebff;}#sk-container-id-1 div.sk-parallel-item::after {content: \"\";width: 100%;border-bottom: 1px solid gray;flex-grow: 1;}#sk-container-id-1 div.sk-label:hover label.sk-toggleable__label {background-color: #d4ebff;}#sk-container-id-1 div.sk-serial::before {content: \"\";position: absolute;border-left: 1px solid gray;box-sizing: border-box;top: 0;bottom: 0;left: 50%;z-index: 0;}#sk-container-id-1 div.sk-serial {display: flex;flex-direction: column;align-items: center;background-color: white;padding-right: 0.2em;padding-left: 0.2em;position: relative;}#sk-container-id-1 div.sk-item {position: relative;z-index: 1;}#sk-container-id-1 div.sk-parallel {display: flex;align-items: stretch;justify-content: center;background-color: white;position: relative;}#sk-container-id-1 div.sk-item::before, #sk-container-id-1 div.sk-parallel-item::before {content: \"\";position: absolute;border-left: 1px solid gray;box-sizing: border-box;top: 0;bottom: 0;left: 50%;z-index: -1;}#sk-container-id-1 div.sk-parallel-item {display: flex;flex-direction: column;z-index: 1;position: relative;background-color: white;}#sk-container-id-1 div.sk-parallel-item:first-child::after {align-self: flex-end;width: 50%;}#sk-container-id-1 div.sk-parallel-item:last-child::after {align-self: flex-start;width: 50%;}#sk-container-id-1 div.sk-parallel-item:only-child::after {width: 0;}#sk-container-id-1 div.sk-dashed-wrapped {border: 1px dashed gray;margin: 0 0.4em 0.5em 0.4em;box-sizing: border-box;padding-bottom: 0.4em;background-color: white;}#sk-container-id-1 div.sk-label label {font-family: monospace;font-weight: bold;display: inline-block;line-height: 1.2em;}#sk-container-id-1 div.sk-label-container {text-align: center;}#sk-container-id-1 div.sk-container {/* jupyter's `normalize.less` sets `[hidden] { display: none; }` but bootstrap.min.css set `[hidden] { display: none !important; }` so we also need the `!important` here to be able to override the default hidden behavior on the sphinx rendered scikit-learn.org. See: https://github.com/scikit-learn/scikit-learn/issues/21755 */display: inline-block !important;position: relative;}#sk-container-id-1 div.sk-text-repr-fallback {display: none;}</style><div id=\"sk-container-id-1\" class=\"sk-top-container\"><div class=\"sk-text-repr-fallback\"><pre>DecisionTreeClassifier(random_state=42)</pre><b>In a Jupyter environment, please rerun this cell to show the HTML representation or trust the notebook. <br />On GitHub, the HTML representation is unable to render, please try loading this page with nbviewer.org.</b></div><div class=\"sk-container\" hidden><div class=\"sk-item\"><div class=\"sk-estimator sk-toggleable\"><input class=\"sk-toggleable__control sk-hidden--visually\" id=\"sk-estimator-id-1\" type=\"checkbox\" checked><label for=\"sk-estimator-id-1\" class=\"sk-toggleable__label sk-toggleable__label-arrow\">DecisionTreeClassifier</label><div class=\"sk-toggleable__content\"><pre>DecisionTreeClassifier(random_state=42)</pre></div></div></div></div></div>"
      ],
      "text/plain": [
       "DecisionTreeClassifier(random_state=42)"
      ]
     },
     "execution_count": 18,
     "metadata": {},
     "output_type": "execute_result"
    }
   ],
   "source": [
    "from sklearn.tree import DecisionTreeClassifier\n",
    "\n",
    "# Build the model\n",
    "model = DecisionTreeClassifier(random_state=42)\n",
    "\n",
    "# Train the model\n",
    "model.fit(X_train, y_train)"
   ]
  },
  {
   "cell_type": "markdown",
   "id": "caecb793-c616-4dd7-97e7-b6920ddf2166",
   "metadata": {},
   "source": [
    "In the above code, we first import the **DecisionTreeClassifier** class from the **sklearn.tree** module. We then create an instance of the class with the random_state parameter set to 42. This parameter ensures that the results are reproducible. Finally, we train the model using the `fit()` method and the training data.\n",
    "\n",
    "Once we have trained the model, we can evaluate its performance on the test data. In this example, we will use accuracy as the evaluation metric. Here's the code to evaluate the model:"
   ]
  },
  {
   "cell_type": "code",
   "execution_count": 19,
   "id": "cd176715-5e88-4032-a7a5-1cb8c6b0e305",
   "metadata": {
    "tags": []
   },
   "outputs": [
    {
     "name": "stdout",
     "output_type": "stream",
     "text": [
      "Accuracy: 0.9444444444444444\n"
     ]
    }
   ],
   "source": [
    "from sklearn.metrics import accuracy_score\n",
    "\n",
    "# Make predictions on the test data\n",
    "y_pred = model.predict(X_test)\n",
    "\n",
    "# Calculate accuracy\n",
    "accuracy = accuracy_score(y_test, y_pred)\n",
    "\n",
    "print(\"Accuracy:\", accuracy)"
   ]
  },
  {
   "cell_type": "markdown",
   "id": "03e5059f-ed15-48e0-8b1d-9ea2febac687",
   "metadata": {},
   "source": [
    "In the above code, we first import the `accuracy_score()` function from the sklearn.metrics module. We then use the trained model to make predictions on the test data using the `predict()` method. Finally, we calculate the accuracy of the model by comparing the predicted labels with the true labels using the `accuracy_score()` function. \n",
    "\n",
    "Although the accuracy of the decision tree classifier we built is 0.94 (e.g., high performance), you can try to improve the accuracy by tuning the hyperparameters of the model. One way to do this is to use Grid Search Cross-validation. Here's the code to perform `Grid search` cross-validation on the decision tree classifier:"
   ]
  },
  {
   "cell_type": "code",
   "execution_count": 20,
   "id": "18cd6908-ea94-41e0-93b9-1dbfb092f2c1",
   "metadata": {
    "tags": []
   },
   "outputs": [
    {
     "name": "stdout",
     "output_type": "stream",
     "text": [
      "Best hyperparameters: {'max_depth': 4, 'min_samples_leaf': 1, 'min_samples_split': 2}\n"
     ]
    }
   ],
   "source": [
    "from sklearn.model_selection import GridSearchCV\n",
    "\n",
    "# Define the parameter grid\n",
    "param_grid = {\n",
    "    'max_depth': [2, 4, 6, 8, 10],\n",
    "    'min_samples_split': [2, 5, 10],\n",
    "    'min_samples_leaf': [1, 2, 4]\n",
    "}\n",
    "\n",
    "# Perform grid search cross-validation\n",
    "grid_search = GridSearchCV(estimator=model, param_grid=param_grid, cv=5)\n",
    "grid_search.fit(X_train, y_train)\n",
    "\n",
    "# Print the best hyperparameters\n",
    "print(\"Best hyperparameters:\", grid_search.best_params_)"
   ]
  },
  {
   "cell_type": "markdown",
   "id": "4d01862d-5448-4c0f-a037-0e5926c037bc",
   "metadata": {},
   "source": [
    "In the above code, we first import the `GridSearchCV` class from the **sklearn.model_selection** module. We then define a parameter grid that specifies a range of hyperparameter values for the **max_depth**, **min_samples_split**, and **min_samples_leaf** parameters of the decision tree classifier. \n",
    "\n",
    "We then create an instance of the `GridSearchCV` class with the decision tree classifier as the estimator, the parameter grid as the param_grid parameter, and the number of folds in the cross-validation as cv=5. We then fit the grid search object to the training data using the `fit()` method.\n",
    "\n",
    "Finally, we print the best hyperparameters found by the grid search using the **best_params_** attribute of the `GridSearchCV` object."
   ]
  },
  {
   "cell_type": "markdown",
   "id": "1fbd361e-386b-45d5-9955-6171ce47b5f6",
   "metadata": {},
   "source": [
    "### RandomForest Classifier"
   ]
  },
  {
   "cell_type": "markdown",
   "id": "d28dcf0d-56b9-4401-b690-48461dd17d46",
   "metadata": {},
   "source": [
    "We can build an improved model using RandomForest Classifier. In this case, we will build a Random Forest model with 100 estimators, a max depth of 10, and a minimum sample split of 5."
   ]
  },
  {
   "cell_type": "code",
   "execution_count": 21,
   "id": "ff56313a-b07b-400c-81ea-9652638981c8",
   "metadata": {
    "tags": []
   },
   "outputs": [
    {
     "name": "stdout",
     "output_type": "stream",
     "text": [
      "Accuracy: 1.0\n"
     ]
    }
   ],
   "source": [
    "from sklearn.ensemble import RandomForestClassifier\n",
    "\n",
    "# Build the improved model with the best hyperparameters\n",
    "improved_rf_model = RandomForestClassifier(n_estimators=100, max_depth=10, min_samples_split=5, random_state=42)\n",
    "\n",
    "# Train the model on the training data\n",
    "improved_rf_model.fit(X_train, y_train)\n",
    "\n",
    "# Predict the values for the test data\n",
    "y_pred_improved = improved_rf_model.predict(X_test)\n",
    "\n",
    "# Calculate accuracy\n",
    "accuracy = accuracy_score(y_test, y_pred_improved)\n",
    "\n",
    "print(\"Accuracy:\", accuracy)"
   ]
  },
  {
   "cell_type": "markdown",
   "id": "49f5be98-1564-449b-8841-6ece6e08e84a",
   "metadata": {},
   "source": [
    "As we can see, the improved Random Forest model has a higher accuracy than the Decision tree model, indicating that it is a better fit for the data."
   ]
  },
  {
   "cell_type": "markdown",
   "id": "dbe827d8-36a3-4ba4-a535-6ed94a6c0a1b",
   "metadata": {},
   "source": [
    "## Step 7-14: Do the Same"
   ]
  },
  {
   "cell_type": "markdown",
   "id": "d62b1cda-0c49-42a5-bf47-f427475fe568",
   "metadata": {},
   "source": [
    "You can do the same thing as we did for solving California Housing Price (Step 8-15) for model serialization, deployment, testing and others."
   ]
  },
  {
   "cell_type": "code",
   "execution_count": null,
   "id": "d1a88aac-a626-4ed7-bd4c-7c28a31dd667",
   "metadata": {},
   "outputs": [],
   "source": []
  }
 ],
 "metadata": {
  "kernelspec": {
   "display_name": "Python 3 (ipykernel)",
   "language": "python",
   "name": "python3"
  },
  "language_info": {
   "codemirror_mode": {
    "name": "ipython",
    "version": 3
   },
   "file_extension": ".py",
   "mimetype": "text/x-python",
   "name": "python",
   "nbconvert_exporter": "python",
   "pygments_lexer": "ipython3",
   "version": "3.8.10"
  }
 },
 "nbformat": 4,
 "nbformat_minor": 5
}
